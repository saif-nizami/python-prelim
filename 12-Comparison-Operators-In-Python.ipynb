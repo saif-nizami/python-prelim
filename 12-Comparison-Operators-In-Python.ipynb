{
 "cells": [
  {
   "cell_type": "markdown",
   "id": "dda6a796-a665-4926-8851-0319ec35c748",
   "metadata": {},
   "source": [
    "# Comparison Operators In Python"
   ]
  },
  {
   "cell_type": "markdown",
   "id": "8cf42f18-c42c-4562-897d-4bca09808b87",
   "metadata": {},
   "source": [
    "# Table of Comparison Operators\n",
    "## In the table below, a=3 and b=4.\n",
    "\n",
    "# Operator  Description\t                                                                                                       Example\n",
    "# ==\t    If the values of two operands are equal, then the condition becomes true.\t                                       (a == b) is not true.\n",
    "# !=\t    If values of two operands are not equal, then condition becomes true.\t                                           (a != b) is true\n",
    "# >\t        If the value of left operand is greater than the value of right operand, then condition becomes true.\t           (a > b) is not true.\n",
    "# <\t        If the value of left operand is less than the value of right operand, then condition becomes true.\t               (a < b) is true.\n",
    "# >=\t    If the value of left operand is greater than or equal to the value of right operand, then condition becomes true.  (a >= b) is not true.\n",
    "# <=\t    If the value of left operand is less than or equal to the value of right operand, then condition becomes true.     (a <= b) is true."
   ]
  }
 ],
 "metadata": {
  "kernelspec": {
   "display_name": "Python 3 (ipykernel)",
   "language": "python",
   "name": "python3"
  },
  "language_info": {
   "codemirror_mode": {
    "name": "ipython",
    "version": 3
   },
   "file_extension": ".py",
   "mimetype": "text/x-python",
   "name": "python",
   "nbconvert_exporter": "python",
   "pygments_lexer": "ipython3",
   "version": "3.13.7"
  }
 },
 "nbformat": 4,
 "nbformat_minor": 5
}
