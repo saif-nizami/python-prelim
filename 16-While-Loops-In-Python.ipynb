{
 "cells": [
  {
   "cell_type": "markdown",
   "id": "bb277e19-a03c-476a-a10b-70930edb8af9",
   "metadata": {},
   "source": [
    "# While Loops In Python"
   ]
  },
  {
   "cell_type": "code",
   "execution_count": 1,
   "id": "37c037ea-d4ed-4db7-a325-bf0d3fe6c1d6",
   "metadata": {},
   "outputs": [
    {
     "name": "stdout",
     "output_type": "stream",
     "text": [
      "The current value is : 0\n",
      "The current value is : 1\n",
      "The current value is : 2\n",
      "The current value is : 3\n",
      "The current value is : 4\n"
     ]
    }
   ],
   "source": [
    "x = 0\n",
    "while x < 5:\n",
    "    print(f'The current value is : {x}')\n",
    "    x += 1"
   ]
  },
  {
   "cell_type": "code",
   "execution_count": 3,
   "id": "abbcebf1-ab40-49da-83d5-7b39428caa29",
   "metadata": {},
   "outputs": [
    {
     "name": "stdout",
     "output_type": "stream",
     "text": [
      "NORMAL FLOW : The current value is : 0\n",
      "NORMAL FLOW : The current value is : 1\n",
      "NORMAL FLOW : The current value is : 2\n",
      "NORMAL FLOW : The current value is : 3\n",
      "NORMAL FLOW : The current value is : 4\n",
      "ELSE FLOW : The current value is : 5\n"
     ]
    }
   ],
   "source": [
    "x = 0\n",
    "while x < 5:\n",
    "    print(f'NORMAL FLOW : The current value is : {x}')\n",
    "    x += 1\n",
    "else:\n",
    "    print(f'ELSE FLOW : The current value is : {x}')"
   ]
  },
  {
   "cell_type": "markdown",
   "id": "2bcaeb08-80f7-4716-b770-81e2d32d3663",
   "metadata": {},
   "source": [
    "# break, continue, pass\n",
    "\n",
    "## We can use break, continue, and pass statements in our loops to add additional functionality for various cases. The three statements are defined by:\n",
    "\n",
    "### break: Breaks out of the current closest enclosing loop.\n",
    "### continue: Goes to the top of the closest enclosing loop.\n",
    "### pass: Does nothing at all."
   ]
  },
  {
   "cell_type": "code",
   "execution_count": 6,
   "id": "018bc211-9df8-4d5b-b83b-be9e04c33a9e",
   "metadata": {},
   "outputs": [
    {
     "name": "stdout",
     "output_type": "stream",
     "text": [
      "End of script!\n"
     ]
    }
   ],
   "source": [
    "x = [1,2,3,4,5]\n",
    "for elem in x:\n",
    "    # Here pass acts as a placeholder, if you want to fill something later on but want to keep the code as well, withour any error.\n",
    "    pass\n",
    "\n",
    "print('End of script!')"
   ]
  },
  {
   "cell_type": "code",
   "execution_count": 9,
   "id": "224fa742-09d6-4d18-ba45-cfa8b80a7ec5",
   "metadata": {},
   "outputs": [
    {
     "name": "stdout",
     "output_type": "stream",
     "text": [
      "The current letter is T\n",
      "The current letter is S\n",
      "The current letter is T\n",
      "The current letter is 0\n",
      "The current letter is 0\n",
      "The current letter is 1\n"
     ]
    }
   ],
   "source": [
    "mystring = 'TEST001'\n",
    "for letter in mystring:\n",
    "    if letter == 'E':\n",
    "        continue\n",
    "    print(f'The current letter is {letter}')"
   ]
  },
  {
   "cell_type": "code",
   "execution_count": 11,
   "id": "15017d37-e5a7-413a-9ea8-73c63fb00216",
   "metadata": {},
   "outputs": [
    {
     "name": "stdout",
     "output_type": "stream",
     "text": [
      "The current letter is T\n"
     ]
    }
   ],
   "source": [
    "for letter in mystring:\n",
    "    if letter == 'E':\n",
    "        break\n",
    "    print(f'The current letter is {letter}')"
   ]
  }
 ],
 "metadata": {
  "kernelspec": {
   "display_name": "Python 3 (ipykernel)",
   "language": "python",
   "name": "python3"
  },
  "language_info": {
   "codemirror_mode": {
    "name": "ipython",
    "version": 3
   },
   "file_extension": ".py",
   "mimetype": "text/x-python",
   "name": "python",
   "nbconvert_exporter": "python",
   "pygments_lexer": "ipython3",
   "version": "3.13.7"
  }
 },
 "nbformat": 4,
 "nbformat_minor": 5
}
