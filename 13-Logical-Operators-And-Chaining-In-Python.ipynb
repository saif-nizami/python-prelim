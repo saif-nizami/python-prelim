{
 "cells": [
  {
   "cell_type": "markdown",
   "id": "d54c011c-1da6-4208-8ec7-9d6bd35fd99a",
   "metadata": {},
   "source": [
    "# Logical Operators and Chaining of Operators"
   ]
  },
  {
   "cell_type": "code",
   "execution_count": 1,
   "id": "cd697e60-f310-4b21-9fb1-2ce7691f3f5a",
   "metadata": {},
   "outputs": [
    {
     "data": {
      "text/plain": [
       "True"
      ]
     },
     "execution_count": 1,
     "metadata": {},
     "output_type": "execute_result"
    }
   ],
   "source": [
    "1 < 2"
   ]
  },
  {
   "cell_type": "code",
   "execution_count": 3,
   "id": "65e5d3b9-9623-4665-aa80-59b7a4156ede",
   "metadata": {},
   "outputs": [
    {
     "data": {
      "text/plain": [
       "False"
      ]
     },
     "execution_count": 3,
     "metadata": {},
     "output_type": "execute_result"
    }
   ],
   "source": [
    "1 < 2 > 4 # Legacy way to chain operators."
   ]
  },
  {
   "cell_type": "code",
   "execution_count": 4,
   "id": "aad592cf-6412-4d71-84c0-040c818db939",
   "metadata": {},
   "outputs": [
    {
     "data": {
      "text/plain": [
       "True"
      ]
     },
     "execution_count": 4,
     "metadata": {},
     "output_type": "execute_result"
    }
   ],
   "source": [
    "1 < 2 and 2 < 4"
   ]
  },
  {
   "cell_type": "code",
   "execution_count": 5,
   "id": "28331a0a-2e8b-4ffb-8fd9-333018f42151",
   "metadata": {},
   "outputs": [
    {
     "data": {
      "text/plain": [
       "True"
      ]
     },
     "execution_count": 5,
     "metadata": {},
     "output_type": "execute_result"
    }
   ],
   "source": [
    "1 == 10 or 2 == 2"
   ]
  },
  {
   "cell_type": "code",
   "execution_count": 8,
   "id": "07fcbf9b-5d72-49c3-ac04-f7472d84cbaa",
   "metadata": {},
   "outputs": [
    {
     "data": {
      "text/plain": [
       "False"
      ]
     },
     "execution_count": 8,
     "metadata": {},
     "output_type": "execute_result"
    }
   ],
   "source": [
    "not(1 < 2)"
   ]
  },
  {
   "cell_type": "code",
   "execution_count": 9,
   "id": "ba71a50f-3b3e-45c1-807f-a20d1f5f9e41",
   "metadata": {},
   "outputs": [
    {
     "data": {
      "text/plain": [
       "False"
      ]
     },
     "execution_count": 9,
     "metadata": {},
     "output_type": "execute_result"
    }
   ],
   "source": [
    "not 1 < 2"
   ]
  }
 ],
 "metadata": {
  "kernelspec": {
   "display_name": "Python 3 (ipykernel)",
   "language": "python",
   "name": "python3"
  },
  "language_info": {
   "codemirror_mode": {
    "name": "ipython",
    "version": 3
   },
   "file_extension": ".py",
   "mimetype": "text/x-python",
   "name": "python",
   "nbconvert_exporter": "python",
   "pygments_lexer": "ipython3",
   "version": "3.13.7"
  }
 },
 "nbformat": 4,
 "nbformat_minor": 5
}
