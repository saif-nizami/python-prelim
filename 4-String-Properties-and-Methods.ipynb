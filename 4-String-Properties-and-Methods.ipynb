{
 "cells": [
  {
   "cell_type": "markdown",
   "id": "2535c39c-5e33-4d9f-a347-eeee46051430",
   "metadata": {},
   "source": [
    "Immutability ( cannot mutate / change )"
   ]
  },
  {
   "cell_type": "code",
   "execution_count": 1,
   "id": "ca45f169-cba8-4205-ad8d-470782cb1fb0",
   "metadata": {},
   "outputs": [],
   "source": [
    "name = \"Saif\""
   ]
  },
  {
   "cell_type": "code",
   "execution_count": 3,
   "id": "62cc1307-78a4-4493-bf42-9ab602dfe6d5",
   "metadata": {},
   "outputs": [],
   "source": [
    "#name[0] = \"Z\" # gives error as strings do not support item assignment"
   ]
  },
  {
   "cell_type": "code",
   "execution_count": 8,
   "id": "b60e3b30-0ad8-492f-ae19-20a1fcda0ac7",
   "metadata": {},
   "outputs": [],
   "source": [
    "last_letters = name[1:]"
   ]
  },
  {
   "cell_type": "code",
   "execution_count": 9,
   "id": "b7679279-23ae-4a6f-9ab4-537cab89c734",
   "metadata": {},
   "outputs": [
    {
     "data": {
      "text/plain": [
       "'aif'"
      ]
     },
     "execution_count": 9,
     "metadata": {},
     "output_type": "execute_result"
    }
   ],
   "source": [
    "last_letters"
   ]
  },
  {
   "cell_type": "code",
   "execution_count": 11,
   "id": "34104b74-bbb2-4712-b5dd-6165b598c812",
   "metadata": {},
   "outputs": [
    {
     "data": {
      "text/plain": [
       "'Zaif'"
      ]
     },
     "execution_count": 11,
     "metadata": {},
     "output_type": "execute_result"
    }
   ],
   "source": [
    "\"Z\" + last_letters # string concatenation"
   ]
  },
  {
   "cell_type": "code",
   "execution_count": 12,
   "id": "6bd1e4cf-12e6-4101-8635-11a191d673d0",
   "metadata": {},
   "outputs": [],
   "source": [
    "x = \"aa\""
   ]
  },
  {
   "cell_type": "code",
   "execution_count": 18,
   "id": "dab9e17d-ed34-45f4-86f7-f33d370b4771",
   "metadata": {},
   "outputs": [],
   "source": [
    "y = x + \"bb\""
   ]
  },
  {
   "cell_type": "code",
   "execution_count": 24,
   "id": "33ff9a29-4b5f-4fa1-9511-71638f80c24c",
   "metadata": {},
   "outputs": [
    {
     "data": {
      "text/plain": [
       "'aabb'"
      ]
     },
     "execution_count": 24,
     "metadata": {},
     "output_type": "execute_result"
    }
   ],
   "source": [
    "y"
   ]
  },
  {
   "cell_type": "code",
   "execution_count": 30,
   "id": "e5e2e71e-3cc9-477b-ac9a-e8231384aa36",
   "metadata": {},
   "outputs": [],
   "source": [
    "testString = \"abcd efgh\""
   ]
  },
  {
   "cell_type": "code",
   "execution_count": 31,
   "id": "d03ffd65-5030-4ba2-90a0-21a66c8d2e75",
   "metadata": {},
   "outputs": [
    {
     "data": {
      "text/plain": [
       "'ABCD EFGH'"
      ]
     },
     "execution_count": 31,
     "metadata": {},
     "output_type": "execute_result"
    }
   ],
   "source": [
    "testString.upper()"
   ]
  },
  {
   "cell_type": "code",
   "execution_count": 32,
   "id": "546fc1c1-9c25-4929-9bdf-9c79df7f6b09",
   "metadata": {},
   "outputs": [
    {
     "data": {
      "text/plain": [
       "'abcd efgh'"
      ]
     },
     "execution_count": 32,
     "metadata": {},
     "output_type": "execute_result"
    }
   ],
   "source": [
    "testString.lower()"
   ]
  },
  {
   "cell_type": "code",
   "execution_count": 34,
   "id": "1646a3e7-4c7f-413f-9101-bc7426074c73",
   "metadata": {},
   "outputs": [
    {
     "data": {
      "text/plain": [
       "['abcd', 'efgh']"
      ]
     },
     "execution_count": 34,
     "metadata": {},
     "output_type": "execute_result"
    }
   ],
   "source": [
    "testString.split() # default split arg is space"
   ]
  },
  {
   "cell_type": "code",
   "execution_count": 36,
   "id": "8a05b0ba-2870-4e40-9205-608a39050a86",
   "metadata": {},
   "outputs": [
    {
     "data": {
      "text/plain": [
       "['ab', 'd efgh']"
      ]
     },
     "execution_count": 36,
     "metadata": {},
     "output_type": "execute_result"
    }
   ],
   "source": [
    "testString.split('c') # explicit split argument"
   ]
  }
 ],
 "metadata": {
  "kernelspec": {
   "display_name": "Python 3 (ipykernel)",
   "language": "python",
   "name": "python3"
  },
  "language_info": {
   "codemirror_mode": {
    "name": "ipython",
    "version": 3
   },
   "file_extension": ".py",
   "mimetype": "text/x-python",
   "name": "python",
   "nbconvert_exporter": "python",
   "pygments_lexer": "ipython3",
   "version": "3.13.7"
  }
 },
 "nbformat": 4,
 "nbformat_minor": 5
}
