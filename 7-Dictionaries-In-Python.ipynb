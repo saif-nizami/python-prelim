{
 "cells": [
  {
   "cell_type": "markdown",
   "id": "101763dc-1e74-4868-b4a0-ceb1be1448a9",
   "metadata": {},
   "source": [
    "# Dictionaries In Python ( Unordered data unlike list here no index is required, only key: value pairs are maintained )"
   ]
  },
  {
   "cell_type": "code",
   "execution_count": 1,
   "id": "0988d6d8-8843-4971-a6cd-c986b1acac8f",
   "metadata": {},
   "outputs": [
    {
     "data": {
      "text/plain": [
       "{'key1': 'val1', 'key2': 'val2'}"
      ]
     },
     "execution_count": 1,
     "metadata": {},
     "output_type": "execute_result"
    }
   ],
   "source": [
    "my_dict = {'key1': 'val1', 'key2': 'val2'}\n",
    "my_dict"
   ]
  },
  {
   "cell_type": "code",
   "execution_count": 2,
   "id": "e0690a32-2868-408a-b3e0-5199824f26f1",
   "metadata": {},
   "outputs": [
    {
     "data": {
      "text/plain": [
       "'val2'"
      ]
     },
     "execution_count": 2,
     "metadata": {},
     "output_type": "execute_result"
    }
   ],
   "source": [
    "my_dict['key2']"
   ]
  },
  {
   "cell_type": "code",
   "execution_count": 4,
   "id": "705efbc6-adeb-4a22-b944-b0e24860c2c5",
   "metadata": {},
   "outputs": [
    {
     "data": {
      "text/plain": [
       "{'k1': 1000, 'k2': [0, 1, 2, 3], 'k3': {'x1': 10, 'x2': 20}}"
      ]
     },
     "execution_count": 4,
     "metadata": {},
     "output_type": "execute_result"
    }
   ],
   "source": [
    "temp_dict = {'k1': 1000, 'k2': [0,1,2,3], 'k3': {'x1': 10, 'x2': 20}}\n",
    "temp_dict"
   ]
  },
  {
   "cell_type": "code",
   "execution_count": 8,
   "id": "57354514-2791-4a2d-9bee-c4f8e9cb322e",
   "metadata": {},
   "outputs": [
    {
     "data": {
      "text/plain": [
       "1000"
      ]
     },
     "execution_count": 8,
     "metadata": {},
     "output_type": "execute_result"
    }
   ],
   "source": [
    "temp_dict['k1']"
   ]
  },
  {
   "cell_type": "code",
   "execution_count": 10,
   "id": "32bf2583-5b31-4975-bf4b-36f75b6d7325",
   "metadata": {},
   "outputs": [
    {
     "data": {
      "text/plain": [
       "2"
      ]
     },
     "execution_count": 10,
     "metadata": {},
     "output_type": "execute_result"
    }
   ],
   "source": [
    "temp_dict['k2'][2]"
   ]
  },
  {
   "cell_type": "code",
   "execution_count": 11,
   "id": "b1b5e9e3-dc99-4df8-9f80-1cb0bb676ae6",
   "metadata": {},
   "outputs": [
    {
     "data": {
      "text/plain": [
       "20"
      ]
     },
     "execution_count": 11,
     "metadata": {},
     "output_type": "execute_result"
    }
   ],
   "source": [
    "temp_dict['k3']['x2']"
   ]
  },
  {
   "cell_type": "code",
   "execution_count": 16,
   "id": "ceff50de-f5f3-49f8-9e94-1696f3b758d1",
   "metadata": {},
   "outputs": [
    {
     "data": {
      "text/plain": [
       "{'k1': 1000, 'k2': [0, 1, 2, 3], 'k3': {'x1': 10, 'x2': 20}, 'k4': 3000}"
      ]
     },
     "execution_count": 16,
     "metadata": {},
     "output_type": "execute_result"
    }
   ],
   "source": [
    "temp_dict['k4'] = 3000\n",
    "temp_dict"
   ]
  },
  {
   "cell_type": "code",
   "execution_count": 17,
   "id": "489a6c14-49b0-449e-9de8-2a4f00364896",
   "metadata": {},
   "outputs": [
    {
     "data": {
      "text/plain": [
       "dict_keys(['k1', 'k2', 'k3', 'k4'])"
      ]
     },
     "execution_count": 17,
     "metadata": {},
     "output_type": "execute_result"
    }
   ],
   "source": [
    "temp_dict.keys()"
   ]
  },
  {
   "cell_type": "code",
   "execution_count": 18,
   "id": "ef420bdf-6de6-43c8-94a8-0a40e914e415",
   "metadata": {},
   "outputs": [
    {
     "data": {
      "text/plain": [
       "dict_values([1000, [0, 1, 2, 3], {'x1': 10, 'x2': 20}, 3000])"
      ]
     },
     "execution_count": 18,
     "metadata": {},
     "output_type": "execute_result"
    }
   ],
   "source": [
    "temp_dict.values()"
   ]
  },
  {
   "cell_type": "code",
   "execution_count": 5,
   "id": "bee307d9-20cc-4408-936f-0db489fb6113",
   "metadata": {},
   "outputs": [
    {
     "data": {
      "text/plain": [
       "dict_items([('k1', 1000), ('k2', [0, 1, 2, 3]), ('k3', {'x1': 10, 'x2': 20})])"
      ]
     },
     "execution_count": 5,
     "metadata": {},
     "output_type": "execute_result"
    }
   ],
   "source": [
    "temp_dict.items()"
   ]
  }
 ],
 "metadata": {
  "kernelspec": {
   "display_name": "Python 3",
   "language": "python",
   "name": "python3"
  },
  "language_info": {
   "codemirror_mode": {
    "name": "ipython",
    "version": 3
   },
   "file_extension": ".py",
   "mimetype": "text/x-python",
   "name": "python",
   "nbconvert_exporter": "python",
   "pygments_lexer": "ipython3",
   "version": "3.9.6"
  }
 },
 "nbformat": 4,
 "nbformat_minor": 5
}
