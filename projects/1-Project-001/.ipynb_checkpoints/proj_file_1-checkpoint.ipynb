{
 "cells": [
  {
   "cell_type": "code",
   "execution_count": 12,
   "id": "a3aa7eaa-afa7-4425-b9aa-10154269e6c8",
   "metadata": {},
   "outputs": [],
   "source": [
    "from IPython.display import clear_output\n",
    "\n",
    "def display_board(board):\n",
    "    clear_output()\n",
    "    print(board[7]+'|'+board[8]+'|'+board[9])\n",
    "    print(board[4]+'|'+board[5]+'|'+board[6])\n",
    "    print(board[1]+'|'+board[2]+'|'+board[3])"
   ]
  },
  {
   "cell_type": "code",
   "execution_count": 13,
   "id": "9fd80977-c222-4ad5-a7aa-26a35d635d93",
   "metadata": {},
   "outputs": [],
   "source": [
    "test_board = [\"#\", \"X\", \"O\", \"X\", \"O\", \"X\", \"O\", \"X\", \"O\", \"X\"]\n",
    "#display_board(test_board)"
   ]
  },
  {
   "cell_type": "code",
   "execution_count": 14,
   "id": "2d35f93b-fd72-4403-9393-aac16cecbf15",
   "metadata": {},
   "outputs": [],
   "source": [
    "def player_input():\n",
    "    marker = ''\n",
    "    while marker != 'X' and marker != 'O':\n",
    "        marker = input('Player 1 : Choose X or O : ').upper()\n",
    "    if marker == 'X':\n",
    "        return ('X', 'O')\n",
    "    else:\n",
    "        return ('O', 'X')"
   ]
  },
  {
   "cell_type": "code",
   "execution_count": 15,
   "id": "89609175-d8ae-463c-87db-7c5e84c10917",
   "metadata": {},
   "outputs": [],
   "source": [
    "def place_marker(board, marker, position):\n",
    "    board[position] = marker"
   ]
  },
  {
   "cell_type": "code",
   "execution_count": 16,
   "id": "f224fbf5-6451-4500-ae48-363905534cd9",
   "metadata": {},
   "outputs": [],
   "source": [
    "def win_check(board, mark):\n",
    "    return (\n",
    "        (board[7] == board[8] == board[9] == mark) or # ROWS\n",
    "        (board[4] == board[5] == board[6] == mark) or # ROWS\n",
    "        (board[1] == board[2] == board[3] == mark) or # ROWS\n",
    "\n",
    "        (board[7] == board[4] == board[1] == mark) or # COLUMNS\n",
    "        (board[8] == board[5] == board[2] == mark) or # COLUMNS\n",
    "        (board[9] == board[6] == board[3] == mark) or # COLUMNS\n",
    "\n",
    "        (board[7] == board[5] == board[3] == mark) or # DIAGONALs\n",
    "        (board[1] == board[5] == board[9] == mark) # DIAGONALs\n",
    "    )"
   ]
  },
  {
   "cell_type": "code",
   "execution_count": 17,
   "id": "ff607cff-13b7-4485-b22e-609b9e2f6ca6",
   "metadata": {},
   "outputs": [],
   "source": [
    "import random\n",
    "\n",
    "def choose_first():\n",
    "    flip = random.randint(0, 1)\n",
    "    if flip:\n",
    "        return 'Player 1'\n",
    "    else:\n",
    "        return 'Player 2'"
   ]
  },
  {
   "cell_type": "code",
   "execution_count": 18,
   "id": "06b5065c-876e-46ba-95f3-9949b29b3a5a",
   "metadata": {},
   "outputs": [],
   "source": [
    "def space_check(board, position):\n",
    "    return board[position] == ' '"
   ]
  },
  {
   "cell_type": "code",
   "execution_count": 19,
   "id": "836d9d39-0527-4013-b64b-37a415213238",
   "metadata": {},
   "outputs": [],
   "source": [
    "def board_full_check(board):\n",
    "    for i in range(1, 10):\n",
    "        if space_check(board, i):\n",
    "            return False\n",
    "    return True"
   ]
  },
  {
   "cell_type": "code",
   "execution_count": 20,
   "id": "8fcab18e-7a0f-4d76-b499-d9a128041c48",
   "metadata": {},
   "outputs": [],
   "source": [
    "def player_choice(board):\n",
    "    position = 0\n",
    "    while position not in [1,2,3,4,5,6,7,8,9] or not space_check(board, position):\n",
    "        position = int(input(\"Choose a position : (1-9)\"))\n",
    "    return position"
   ]
  },
  {
   "cell_type": "code",
   "execution_count": 21,
   "id": "234c5f7e-d835-4fbd-adb4-a3a6f2ec4fc1",
   "metadata": {},
   "outputs": [],
   "source": [
    "def replay():\n",
    "    choice = input(\"Do you want to play again? Just answer Yes/No!\")\n",
    "    return choice == 'Yes'"
   ]
  },
  {
   "cell_type": "code",
   "execution_count": null,
   "id": "b8b837d5-d0f8-49a0-b675-9f36f1561964",
   "metadata": {},
   "outputs": [
    {
     "name": "stdout",
     "output_type": "stream",
     "text": [
      "X|O|X\n",
      "O|O|X\n",
      "O|X|O\n",
      "The game is a tie!\n"
     ]
    }
   ],
   "source": [
    "print(\"Welcome to TIC-TAC-TOE!\")\n",
    "while True:\n",
    "    the_board = [' ']*10\n",
    "    player_1_marker, player_2_marker = player_input()\n",
    "    turn = choose_first()\n",
    "    print(turn, \" will go first!\")\n",
    "    ready_to_play = input(\"Ready to play? Type 'y' or 'n'\").lower()\n",
    "    if ready_to_play == 'y':\n",
    "        game_on = True\n",
    "    else:\n",
    "        game_on = False\n",
    "    while game_on:\n",
    "        if turn == 'Player 1':\n",
    "            display_board(the_board)\n",
    "            position = player_choice(the_board)\n",
    "            place_marker(the_board, player_1_marker, position)\n",
    "            if win_check(the_board, player_1_marker):\n",
    "                display_board(the_board)\n",
    "                print(\"PLAYER 1 HAS WON!\")\n",
    "                game_on = False\n",
    "            else:\n",
    "                if board_full_check(the_board):\n",
    "                    display_board(the_board)\n",
    "                    print(\"THE GAME IS A TIE!\")\n",
    "                    game_on = False\n",
    "                else:\n",
    "                    turn = 'Player 2'\n",
    "        else:\n",
    "            display_board(the_board)\n",
    "            position = player_choice(the_board)\n",
    "            place_marker(the_board, player_2_marker, position)\n",
    "            if win_check(the_board, player_2_marker):\n",
    "                display_board(the_board)\n",
    "                print(\"PLAYER 2 HAS WON!\")\n",
    "                game_on = False\n",
    "            else:\n",
    "                if board_full_check(the_board):\n",
    "                    display_board(the_board)\n",
    "                    print(\"THE GAME IS A TIE!\")\n",
    "                    game_on = False\n",
    "                else:\n",
    "                    turn = 'Player 1'\n",
    "    if not replay():\n",
    "        break"
   ]
  }
 ],
 "metadata": {
  "kernelspec": {
   "display_name": "Python 3 (ipykernel)",
   "language": "python",
   "name": "python3"
  },
  "language_info": {
   "codemirror_mode": {
    "name": "ipython",
    "version": 3
   },
   "file_extension": ".py",
   "mimetype": "text/x-python",
   "name": "python",
   "nbconvert_exporter": "python",
   "pygments_lexer": "ipython3",
   "version": "3.10.13"
  }
 },
 "nbformat": 4,
 "nbformat_minor": 5
}
