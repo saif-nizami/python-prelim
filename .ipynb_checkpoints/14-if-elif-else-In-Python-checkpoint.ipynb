{
 "cells": [
  {
   "cell_type": "markdown",
   "id": "b21c26dc-9742-4153-906d-09b151a18243",
   "metadata": {},
   "source": [
    "# if, elif and else control flow in Python."
   ]
  },
  {
   "cell_type": "code",
   "execution_count": null,
   "id": "8bc8341e-8a37-4631-9c62-10af910ff6c6",
   "metadata": {},
   "outputs": [],
   "source": []
  }
 ],
 "metadata": {
  "kernelspec": {
   "display_name": "Python 3 (ipykernel)",
   "language": "python",
   "name": "python3"
  },
  "language_info": {
   "codemirror_mode": {
    "name": "ipython",
    "version": 3
   },
   "file_extension": ".py",
   "mimetype": "text/x-python",
   "name": "python",
   "nbconvert_exporter": "python",
   "pygments_lexer": "ipython3",
   "version": "3.13.7"
  }
 },
 "nbformat": 4,
 "nbformat_minor": 5
}
