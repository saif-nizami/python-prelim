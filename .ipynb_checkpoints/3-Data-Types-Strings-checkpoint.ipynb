{
 "cells": [
  {
   "cell_type": "code",
   "execution_count": 1,
   "id": "d1f026be-50c9-4584-a918-9870b4622594",
   "metadata": {},
   "outputs": [
    {
     "data": {
      "text/plain": [
       "'hello'"
      ]
     },
     "execution_count": 1,
     "metadata": {},
     "output_type": "execute_result"
    }
   ],
   "source": [
    "'hello'"
   ]
  },
  {
   "cell_type": "code",
   "execution_count": 2,
   "id": "0341536d-4fb4-404a-b5dd-bb33ce206607",
   "metadata": {},
   "outputs": [
    {
     "data": {
      "text/plain": [
       "'world'"
      ]
     },
     "execution_count": 2,
     "metadata": {},
     "output_type": "execute_result"
    }
   ],
   "source": [
    "\"world\""
   ]
  },
  {
   "cell_type": "code",
   "execution_count": 3,
   "id": "227f5f13-0633-4f02-9481-e3ae3f6b3c9e",
   "metadata": {},
   "outputs": [
    {
     "data": {
      "text/plain": [
       "\"I'm working right now\""
      ]
     },
     "execution_count": 3,
     "metadata": {},
     "output_type": "execute_result"
    }
   ],
   "source": [
    "\"I'm working right now\""
   ]
  },
  {
   "cell_type": "code",
   "execution_count": 4,
   "id": "40eb4ebf-cff9-4e0a-8805-c5ad6415915c",
   "metadata": {},
   "outputs": [
    {
     "name": "stdout",
     "output_type": "stream",
     "text": [
      "hello world\n"
     ]
    }
   ],
   "source": [
    "print(\"hello world\")"
   ]
  },
  {
   "cell_type": "code",
   "execution_count": 5,
   "id": "c4ad9d8d-aad8-4280-a37e-a4079f712f39",
   "metadata": {},
   "outputs": [
    {
     "name": "stdout",
     "output_type": "stream",
     "text": [
      "hello \n",
      "world\n"
     ]
    }
   ],
   "source": [
    "print(\"hello \\nworld\") # escape characters"
   ]
  },
  {
   "cell_type": "code",
   "execution_count": 6,
   "id": "d3c394a2-265e-48f2-9dfe-e48a6a7139a4",
   "metadata": {},
   "outputs": [
    {
     "name": "stdout",
     "output_type": "stream",
     "text": [
      "hello \tworld\n"
     ]
    }
   ],
   "source": [
    "print(\"hello \\tworld\") # escape characters"
   ]
  },
  {
   "cell_type": "code",
   "execution_count": 7,
   "id": "7e7e732c-7f6a-467c-aa8a-6ce140d1674e",
   "metadata": {},
   "outputs": [
    {
     "data": {
      "text/plain": [
       "5"
      ]
     },
     "execution_count": 7,
     "metadata": {},
     "output_type": "execute_result"
    }
   ],
   "source": [
    "len(\"hello\")"
   ]
  },
  {
   "cell_type": "code",
   "execution_count": 8,
   "id": "0a6e51d2-bcab-4730-bd28-233ec05ef0df",
   "metadata": {},
   "outputs": [
    {
     "data": {
      "text/plain": [
       "4"
      ]
     },
     "execution_count": 8,
     "metadata": {},
     "output_type": "execute_result"
    }
   ],
   "source": [
    "len(\"i am\")"
   ]
  },
  {
   "cell_type": "code",
   "execution_count": 11,
   "id": "3182f2d4-ed56-466f-99c1-bea4df489452",
   "metadata": {},
   "outputs": [],
   "source": [
    "mystring = \"hello world\""
   ]
  },
  {
   "cell_type": "code",
   "execution_count": 12,
   "id": "0a27c7da-69a5-49cc-bc28-37a32135f299",
   "metadata": {},
   "outputs": [
    {
     "data": {
      "text/plain": [
       "'hello world'"
      ]
     },
     "execution_count": 12,
     "metadata": {},
     "output_type": "execute_result"
    }
   ],
   "source": [
    "mystring"
   ]
  },
  {
   "cell_type": "code",
   "execution_count": 13,
   "id": "0203eb7a-840b-4b42-95fd-6224741e4dce",
   "metadata": {},
   "outputs": [
    {
     "data": {
      "text/plain": [
       "'h'"
      ]
     },
     "execution_count": 13,
     "metadata": {},
     "output_type": "execute_result"
    }
   ],
   "source": [
    "mystring[0] # string indexing"
   ]
  },
  {
   "cell_type": "code",
   "execution_count": 14,
   "id": "d49d31d7-a974-4560-854a-b06922c1dee5",
   "metadata": {},
   "outputs": [
    {
     "data": {
      "text/plain": [
       "'r'"
      ]
     },
     "execution_count": 14,
     "metadata": {},
     "output_type": "execute_result"
    }
   ],
   "source": [
    "mystring[8] # string indexing"
   ]
  },
  {
   "cell_type": "code",
   "execution_count": 15,
   "id": "0c92854e-c368-428e-9e7c-6a0d2203597c",
   "metadata": {},
   "outputs": [
    {
     "data": {
      "text/plain": [
       "'l'"
      ]
     },
     "execution_count": 15,
     "metadata": {},
     "output_type": "execute_result"
    }
   ],
   "source": [
    "mystring[-2] # reverse string indexing"
   ]
  },
  {
   "cell_type": "code",
   "execution_count": 47,
   "id": "5c667841-e09f-44cb-b705-f54c6de43755",
   "metadata": {},
   "outputs": [],
   "source": [
    "mystring = 'abcdefghijkl'"
   ]
  },
  {
   "cell_type": "code",
   "execution_count": 48,
   "id": "6d043886-c600-4cb5-9fc7-db5322fdbe12",
   "metadata": {},
   "outputs": [
    {
     "data": {
      "text/plain": [
       "'abcdefghijkl'"
      ]
     },
     "execution_count": 48,
     "metadata": {},
     "output_type": "execute_result"
    }
   ],
   "source": [
    "mystring"
   ]
  },
  {
   "cell_type": "code",
   "execution_count": 49,
   "id": "78f80056-c836-4b0a-bdd5-1d074b12aeb0",
   "metadata": {},
   "outputs": [
    {
     "data": {
      "text/plain": [
       "'cdefghijkl'"
      ]
     },
     "execution_count": 49,
     "metadata": {},
     "output_type": "execute_result"
    }
   ],
   "source": [
    "mystring[2:] # slicing sub-string with only 1 argument ( starting index ), omitted second arg"
   ]
  },
  {
   "cell_type": "code",
   "execution_count": 50,
   "id": "1d4f8e2f-6284-456f-809d-dfff7a53d052",
   "metadata": {},
   "outputs": [
    {
     "data": {
      "text/plain": [
       "'ab'"
      ]
     },
     "execution_count": 50,
     "metadata": {},
     "output_type": "execute_result"
    }
   ],
   "source": [
    "mystring[:2] # slicing sub-string with only 1 argument ( ending index ), omitted first arg"
   ]
  },
  {
   "cell_type": "code",
   "execution_count": 56,
   "id": "e6fb68b6-68c2-4070-a834-9b502e45af12",
   "metadata": {},
   "outputs": [
    {
     "data": {
      "text/plain": [
       "'def'"
      ]
     },
     "execution_count": 56,
     "metadata": {},
     "output_type": "execute_result"
    }
   ],
   "source": [
    "mystring[3:6] # slicing sub-string with only 2 arguments ( starting / ending index ), omitted third arg"
   ]
  },
  {
   "cell_type": "code",
   "execution_count": 58,
   "id": "4ff3cb1f-d026-4bb7-8a3b-5cb39a70c45a",
   "metadata": {},
   "outputs": [
    {
     "data": {
      "text/plain": [
       "'abcdefghijkl'"
      ]
     },
     "execution_count": 58,
     "metadata": {},
     "output_type": "execute_result"
    }
   ],
   "source": [
    "mystring[::] # slicing sub-string with no arguments to grab the entire string, alternatively just use the varibale name"
   ]
  },
  {
   "cell_type": "code",
   "execution_count": 60,
   "id": "d41c0eb0-a8e8-4506-b5ce-d0c64d118f56",
   "metadata": {},
   "outputs": [
    {
     "data": {
      "text/plain": [
       "'acegik'"
      ]
     },
     "execution_count": 60,
     "metadata": {},
     "output_type": "execute_result"
    }
   ],
   "source": [
    "mystring[::2] # slicing sub-string with only third argument to step through."
   ]
  },
  {
   "cell_type": "code",
   "execution_count": 61,
   "id": "25754a40-0ee5-4dc6-9542-526f61b871ff",
   "metadata": {},
   "outputs": [
    {
     "data": {
      "text/plain": [
       "'ceg'"
      ]
     },
     "execution_count": 61,
     "metadata": {},
     "output_type": "execute_result"
    }
   ],
   "source": [
    "mystring[2:7:2] # slicing sub-string with all args"
   ]
  },
  {
   "cell_type": "code",
   "execution_count": 62,
   "id": "31eb1b6e-6951-4980-81cb-7810167cfe9d",
   "metadata": {},
   "outputs": [
    {
     "data": {
      "text/plain": [
       "'lkjihgfedcba'"
      ]
     },
     "execution_count": 62,
     "metadata": {},
     "output_type": "execute_result"
    }
   ],
   "source": [
    "mystring[::-1] # TRICK ::: Rverse string using slicing method with third arg ( step i.e -1, to start from last index )"
   ]
  },
  {
   "cell_type": "code",
   "execution_count": null,
   "id": "a4f5d3e6-ecd1-4fa6-b375-36290804001e",
   "metadata": {},
   "outputs": [],
   "source": []
  }
 ],
 "metadata": {
  "kernelspec": {
   "display_name": "Python 3 (ipykernel)",
   "language": "python",
   "name": "python3"
  },
  "language_info": {
   "codemirror_mode": {
    "name": "ipython",
    "version": 3
   },
   "file_extension": ".py",
   "mimetype": "text/x-python",
   "name": "python",
   "nbconvert_exporter": "python",
   "pygments_lexer": "ipython3",
   "version": "3.12.3"
  }
 },
 "nbformat": 4,
 "nbformat_minor": 5
}
