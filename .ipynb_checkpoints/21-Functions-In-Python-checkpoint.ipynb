{
 "cells": [
  {
   "cell_type": "markdown",
   "id": "394fa6c1-da26-47b9-9522-924b9d30fcce",
   "metadata": {},
   "source": [
    "# Functions In Python"
   ]
  },
  {
   "cell_type": "code",
   "execution_count": 1,
   "id": "61e33325-b985-441c-84b1-d28f7705eced",
   "metadata": {},
   "outputs": [],
   "source": [
    "def say_hello():\n",
    "    print('Hello!')"
   ]
  },
  {
   "cell_type": "code",
   "execution_count": 2,
   "id": "ee97b2d2-005b-4c19-b858-a3320891c9a9",
   "metadata": {},
   "outputs": [
    {
     "name": "stdout",
     "output_type": "stream",
     "text": [
      "Hello!\n"
     ]
    }
   ],
   "source": [
    "say_hello()"
   ]
  },
  {
   "cell_type": "code",
   "execution_count": 3,
   "id": "9dcc4444-71f6-4ae1-bc22-dc05a75e14b3",
   "metadata": {},
   "outputs": [
    {
     "data": {
      "text/plain": [
       "<function __main__.say_hello()>"
      ]
     },
     "execution_count": 3,
     "metadata": {},
     "output_type": "execute_result"
    }
   ],
   "source": [
    "say_hello"
   ]
  },
  {
   "cell_type": "code",
   "execution_count": 4,
   "id": "af60e6f5-5468-4bd9-8a70-7008dc49d71f",
   "metadata": {},
   "outputs": [],
   "source": [
    "def say_hello(name):\n",
    "    print(f'Hello {name}!')"
   ]
  },
  {
   "cell_type": "code",
   "execution_count": 5,
   "id": "55005c15-673c-401a-a8d8-4a47708814a8",
   "metadata": {},
   "outputs": [
    {
     "name": "stdout",
     "output_type": "stream",
     "text": [
      "Hello Jose!\n"
     ]
    }
   ],
   "source": [
    "say_hello('Jose')"
   ]
  },
  {
   "cell_type": "code",
   "execution_count": 7,
   "id": "b1b80d52-069c-4390-b32d-cd0e72d82b4f",
   "metadata": {},
   "outputs": [],
   "source": [
    "def say_hello(name='DEFAULT'):\n",
    "    print(f'Hello {name}!')"
   ]
  },
  {
   "cell_type": "code",
   "execution_count": 8,
   "id": "5e54b663-9e5e-4ee9-96b3-49d46a3cce59",
   "metadata": {},
   "outputs": [
    {
     "name": "stdout",
     "output_type": "stream",
     "text": [
      "Hello DEFAULT!\n"
     ]
    }
   ],
   "source": [
    "say_hello() # Set Default"
   ]
  },
  {
   "cell_type": "code",
   "execution_count": 9,
   "id": "fbebb16b-26a6-49b3-bc6a-145210c54b24",
   "metadata": {},
   "outputs": [],
   "source": [
    "def add_num(num1, num2):\n",
    "    return num1 + num2"
   ]
  },
  {
   "cell_type": "code",
   "execution_count": 11,
   "id": "0104f591-56c6-419d-b517-23e240777863",
   "metadata": {},
   "outputs": [
    {
     "data": {
      "text/plain": [
       "25"
      ]
     },
     "execution_count": 11,
     "metadata": {},
     "output_type": "execute_result"
    }
   ],
   "source": [
    "result = add_num(5, 20)\n",
    "result"
   ]
  },
  {
   "cell_type": "code",
   "execution_count": 18,
   "id": "a0050072-8f75-45d5-bdd0-db57b837cdc0",
   "metadata": {},
   "outputs": [],
   "source": [
    "def add_num(num1: int, num2: int) -> int: # : int is used as a type hint, -> is used to ensure that this function returns an integer.\n",
    "    return int(num1) + int(num2)"
   ]
  },
  {
   "cell_type": "code",
   "execution_count": 19,
   "id": "cf4d782e-e492-41a4-8964-1e2c16dfd558",
   "metadata": {},
   "outputs": [
    {
     "data": {
      "text/plain": [
       "33"
      ]
     },
     "execution_count": 19,
     "metadata": {},
     "output_type": "execute_result"
    }
   ],
   "source": [
    "result = add_num('10', '23')\n",
    "result"
   ]
  },
  {
   "cell_type": "code",
   "execution_count": 22,
   "id": "184db5f4-f4dd-4f20-b6af-bb1f391fea6f",
   "metadata": {},
   "outputs": [],
   "source": [
    "def even_check(number):\n",
    "    return number % 2 == 0"
   ]
  },
  {
   "cell_type": "code",
   "execution_count": 23,
   "id": "d622e334-5466-4e55-bec6-3acbb6e315b4",
   "metadata": {},
   "outputs": [
    {
     "data": {
      "text/plain": [
       "True"
      ]
     },
     "execution_count": 23,
     "metadata": {},
     "output_type": "execute_result"
    }
   ],
   "source": [
    "even_check(20)"
   ]
  },
  {
   "cell_type": "code",
   "execution_count": 35,
   "id": "510f30e6-e0f2-4524-85f3-aab5069ee708",
   "metadata": {},
   "outputs": [],
   "source": [
    "# Check if list has an even / odd number!\n",
    "\n",
    "def check_even_list(num_list):\n",
    "    for num in num_list:\n",
    "        if num % 2 == 0:\n",
    "            return True\n",
    "        else:\n",
    "            pass\n",
    "    return False"
   ]
  },
  {
   "cell_type": "code",
   "execution_count": 36,
   "id": "d3fec738-3160-41d7-b6f7-de6fefcf1b48",
   "metadata": {},
   "outputs": [
    {
     "data": {
      "text/plain": [
       "False"
      ]
     },
     "execution_count": 36,
     "metadata": {},
     "output_type": "execute_result"
    }
   ],
   "source": [
    "check_even_list([1,3,5])"
   ]
  },
  {
   "cell_type": "code",
   "execution_count": 37,
   "id": "9502db78-c6ff-4406-abce-f44167a7ace5",
   "metadata": {},
   "outputs": [
    {
     "data": {
      "text/plain": [
       "True"
      ]
     },
     "execution_count": 37,
     "metadata": {},
     "output_type": "execute_result"
    }
   ],
   "source": [
    "check_even_list([1,3,5,8])"
   ]
  },
  {
   "cell_type": "code",
   "execution_count": 46,
   "id": "d40ee088-2277-4aa7-9771-35aa15834e07",
   "metadata": {},
   "outputs": [],
   "source": [
    "# Return all even numbers in a list!\n",
    "even_numbers = []\n",
    "def check_even_list(num_list):\n",
    "    for num in num_list:\n",
    "        if num % 2 == 0:\n",
    "            even_numbers.append(num)\n",
    "        else:\n",
    "            pass\n",
    "    return even_numbers"
   ]
  },
  {
   "cell_type": "code",
   "execution_count": 39,
   "id": "b8e9b5f8-7e76-4605-be0f-d5ac53fc9956",
   "metadata": {},
   "outputs": [
    {
     "data": {
      "text/plain": [
       "[2, 4, 6, 8, 10]"
      ]
     },
     "execution_count": 39,
     "metadata": {},
     "output_type": "execute_result"
    }
   ],
   "source": [
    "check_even_list([1,2,3,4,5,6,7,8,9,10])"
   ]
  },
  {
   "cell_type": "code",
   "execution_count": 47,
   "id": "5a1ebf8f-64cc-4a17-bc9a-a39c13aeeb7b",
   "metadata": {},
   "outputs": [
    {
     "data": {
      "text/plain": [
       "[]"
      ]
     },
     "execution_count": 47,
     "metadata": {},
     "output_type": "execute_result"
    }
   ],
   "source": [
    "check_even_list([1,3,5,7,9])"
   ]
  },
  {
   "cell_type": "code",
   "execution_count": 75,
   "id": "8f4e3691-d1c8-48bb-8d3a-0369dd79a379",
   "metadata": {},
   "outputs": [],
   "source": [
    "work_hours = [('Abby', 100), ('Billy', 4000), ('Cassie', 800)]"
   ]
  },
  {
   "cell_type": "code",
   "execution_count": 76,
   "id": "e6ad1216-d6c5-49e5-bd82-684fa1aa9e74",
   "metadata": {},
   "outputs": [],
   "source": [
    "def employee_check_hours(work_hours):\n",
    "    current_max = 0\n",
    "    employee_of_the_month = ''\n",
    "    for employee, hours in work_hours:\n",
    "        if hours > current_max:\n",
    "            current_max = hours\n",
    "            employee_of_the_month = employee\n",
    "        else:\n",
    "            pass\n",
    "\n",
    "    return (employee_of_the_month, current_max)"
   ]
  },
  {
   "cell_type": "code",
   "execution_count": 79,
   "id": "d0cd1896-1ea7-4078-bfbc-128080f72a24",
   "metadata": {},
   "outputs": [
    {
     "name": "stdout",
     "output_type": "stream",
     "text": [
      "Name is :  Billy\n",
      "Hours is :  4000\n"
     ]
    }
   ],
   "source": [
    "name, hours = employee_check_hours(work_hours)\n",
    "print('Name is : ', name)\n",
    "print('Hours is : ', hours)"
   ]
  },
  {
   "cell_type": "code",
   "execution_count": 80,
   "id": "4be06167-dc25-4e63-a4f9-9b2cb6bcfde8",
   "metadata": {},
   "outputs": [],
   "source": [
    "example = [1,2,3,4,5,6,7,8,9,10]"
   ]
  },
  {
   "cell_type": "code",
   "execution_count": 81,
   "id": "a606fb2d-74d6-4e9d-a1c2-7bfb2889b160",
   "metadata": {},
   "outputs": [],
   "source": [
    "from random import shuffle"
   ]
  },
  {
   "cell_type": "code",
   "execution_count": 82,
   "id": "781ccbe1-5663-44ae-9bfe-8f7fac1b9374",
   "metadata": {},
   "outputs": [
    {
     "data": {
      "text/plain": [
       "[1, 2, 6, 4, 10, 8, 5, 3, 9, 7]"
      ]
     },
     "execution_count": 82,
     "metadata": {},
     "output_type": "execute_result"
    }
   ],
   "source": [
    "shuffle(example)\n",
    "example"
   ]
  },
  {
   "cell_type": "code",
   "execution_count": 83,
   "id": "bf1d3d77-3923-43fd-9be7-38265720d16e",
   "metadata": {},
   "outputs": [],
   "source": [
    "def shuffle_list(mylist):\n",
    "    shuffle(mylist)\n",
    "    return mylist"
   ]
  },
  {
   "cell_type": "code",
   "execution_count": 88,
   "id": "6e56a69c-e86d-4475-ab28-a7c64bce3de3",
   "metadata": {},
   "outputs": [
    {
     "data": {
      "text/plain": [
       "[5, 4, 7, 3, 10, 6, 1, 8, 9, 2]"
      ]
     },
     "execution_count": 88,
     "metadata": {},
     "output_type": "execute_result"
    }
   ],
   "source": [
    "result = shuffle_list(example)\n",
    "result"
   ]
  },
  {
   "cell_type": "code",
   "execution_count": 89,
   "id": "07d2179e-953b-4daa-93f5-415c3bedf11c",
   "metadata": {},
   "outputs": [],
   "source": [
    "new_list = [' ', 'O', ' ']"
   ]
  },
  {
   "cell_type": "code",
   "execution_count": 99,
   "id": "7ca30887-5e42-4d00-afa6-4ad1b6712bee",
   "metadata": {},
   "outputs": [
    {
     "data": {
      "text/plain": [
       "['O', ' ', ' ']"
      ]
     },
     "execution_count": 99,
     "metadata": {},
     "output_type": "execute_result"
    }
   ],
   "source": [
    "shuffle_list(new_list)"
   ]
  },
  {
   "cell_type": "code",
   "execution_count": 100,
   "id": "07360c7f-a8d6-4c13-bc37-34e83c810f0b",
   "metadata": {},
   "outputs": [],
   "source": [
    "def player_guess():\n",
    "    guess = ''\n",
    "    while guess not in ['0', '1', '2']:\n",
    "        guess = input('Pick a number 0, 1 or 2 : You selected - ')\n",
    "\n",
    "    return int(guess)"
   ]
  },
  {
   "cell_type": "code",
   "execution_count": 101,
   "id": "556c1409-bc5f-430c-8fbf-256a510ee27e",
   "metadata": {},
   "outputs": [
    {
     "name": "stdin",
     "output_type": "stream",
     "text": [
      "Pick a number 0, 1 or 2 9\n",
      "Pick a number 0, 1 or 2 1\n"
     ]
    },
    {
     "data": {
      "text/plain": [
       "1"
      ]
     },
     "execution_count": 101,
     "metadata": {},
     "output_type": "execute_result"
    }
   ],
   "source": [
    "player_guess()"
   ]
  },
  {
   "cell_type": "code",
   "execution_count": 102,
   "id": "3dd55a67-449e-4700-9ff9-ebacfc3b3c89",
   "metadata": {},
   "outputs": [
    {
     "name": "stdin",
     "output_type": "stream",
     "text": [
      "Pick a number 0, 1 or 2 1\n"
     ]
    }
   ],
   "source": [
    "myindex = player_guess()"
   ]
  },
  {
   "cell_type": "code",
   "execution_count": 103,
   "id": "9171b624-eb13-4c14-8301-cd3e1c756e75",
   "metadata": {},
   "outputs": [
    {
     "data": {
      "text/plain": [
       "1"
      ]
     },
     "execution_count": 103,
     "metadata": {},
     "output_type": "execute_result"
    }
   ],
   "source": [
    "myindex"
   ]
  },
  {
   "cell_type": "code",
   "execution_count": 104,
   "id": "6d943601-ffab-4380-96cc-a0ab91d5a481",
   "metadata": {},
   "outputs": [],
   "source": [
    "def check_guess(mylist, guess):\n",
    "    if mylist[guess] == 'O':\n",
    "        print('CORRECT!!!')\n",
    "    else:\n",
    "        print('WRONG GUESS!!')\n",
    "        print(mylist)"
   ]
  },
  {
   "cell_type": "code",
   "execution_count": 106,
   "id": "ff0f2532-9b5b-448f-96fa-dbcbe1d4eb2c",
   "metadata": {},
   "outputs": [
    {
     "name": "stdin",
     "output_type": "stream",
     "text": [
      "Pick a number 0, 1 or 2 1\n"
     ]
    },
    {
     "name": "stdout",
     "output_type": "stream",
     "text": [
      "WRONG GUESS!!\n",
      "[' ', '', 'O']\n"
     ]
    }
   ],
   "source": [
    "# INITIAL LIST\n",
    "mylist = [' ', 'O', '']\n",
    "\n",
    "# SHUFFLE LIST\n",
    "mixeduplist = shuffle_list(mylist)\n",
    "\n",
    "# USER GUESS\n",
    "guess = player_guess()\n",
    "\n",
    "# CHECK GUESS\n",
    "check_guess(mixeduplist, guess)"
   ]
  }
 ],
 "metadata": {
  "kernelspec": {
   "display_name": "Python 3 (ipykernel)",
   "language": "python",
   "name": "python3"
  },
  "language_info": {
   "codemirror_mode": {
    "name": "ipython",
    "version": 3
   },
   "file_extension": ".py",
   "mimetype": "text/x-python",
   "name": "python",
   "nbconvert_exporter": "python",
   "pygments_lexer": "ipython3",
   "version": "3.13.7"
  }
 },
 "nbformat": 4,
 "nbformat_minor": 5
}
