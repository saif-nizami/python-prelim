{
 "cells": [
  {
   "cell_type": "markdown",
   "id": "0d74ae5b-9c69-4205-abc0-1a729e5906bf",
   "metadata": {},
   "source": [
    "Basic Operations ( + - * / )"
   ]
  },
  {
   "cell_type": "code",
   "execution_count": 1,
   "id": "690414ac-470b-4e14-9a22-0acad5e1fec2",
   "metadata": {},
   "outputs": [
    {
     "data": {
      "text/plain": [
       "200"
      ]
     },
     "execution_count": 1,
     "metadata": {},
     "output_type": "execute_result"
    }
   ],
   "source": [
    "100 + 100"
   ]
  },
  {
   "cell_type": "code",
   "execution_count": 2,
   "id": "01b7772d-dfcf-4783-a2c8-e5239d16fbff",
   "metadata": {},
   "outputs": [
    {
     "data": {
      "text/plain": [
       "100"
      ]
     },
     "execution_count": 2,
     "metadata": {},
     "output_type": "execute_result"
    }
   ],
   "source": [
    "200 - 100"
   ]
  },
  {
   "cell_type": "code",
   "execution_count": 3,
   "id": "4db37dc6-303a-408a-8601-fdea9fb32b00",
   "metadata": {},
   "outputs": [
    {
     "data": {
      "text/plain": [
       "200"
      ]
     },
     "execution_count": 3,
     "metadata": {},
     "output_type": "execute_result"
    }
   ],
   "source": [
    "100 * 2"
   ]
  },
  {
   "cell_type": "code",
   "execution_count": 4,
   "id": "d6e7934c-9f00-4e5d-87bb-27406886e92c",
   "metadata": {
    "jp-MarkdownHeadingCollapsed": true
   },
   "outputs": [
    {
     "data": {
      "text/plain": [
       "100.0"
      ]
     },
     "execution_count": 4,
     "metadata": {},
     "output_type": "execute_result"
    }
   ],
   "source": [
    "200 / 2"
   ]
  },
  {
   "cell_type": "markdown",
   "id": "ee5b0cbf-490b-4369-a8a7-168b2b311570",
   "metadata": {},
   "source": [
    "Modulos Operation \" Mod \""
   ]
  },
  {
   "cell_type": "code",
   "execution_count": 5,
   "id": "1569e9bd-525e-4a7d-9ca5-1dcf6fa9a475",
   "metadata": {},
   "outputs": [
    {
     "data": {
      "text/plain": [
       "1.75"
      ]
     },
     "execution_count": 5,
     "metadata": {},
     "output_type": "execute_result"
    }
   ],
   "source": [
    "7 / 4"
   ]
  },
  {
   "cell_type": "code",
   "execution_count": 6,
   "id": "86786955-7e62-4cae-a65c-1f48d09a3769",
   "metadata": {},
   "outputs": [
    {
     "data": {
      "text/plain": [
       "0"
      ]
     },
     "execution_count": 6,
     "metadata": {},
     "output_type": "execute_result"
    }
   ],
   "source": [
    "50 % 5"
   ]
  },
  {
   "cell_type": "markdown",
   "id": "612e0fba-173a-47b2-b47a-7932affa69a3",
   "metadata": {},
   "source": [
    "Power Operation \" Exponent \""
   ]
  },
  {
   "cell_type": "code",
   "execution_count": 7,
   "id": "55fbc40a-625f-4f5b-9055-dd18e57f4642",
   "metadata": {},
   "outputs": [
    {
     "data": {
      "text/plain": [
       "8"
      ]
     },
     "execution_count": 7,
     "metadata": {},
     "output_type": "execute_result"
    }
   ],
   "source": [
    "2 ** 3"
   ]
  },
  {
   "cell_type": "markdown",
   "id": "dff3406f-a910-4322-b7b8-7ee112f8ecb4",
   "metadata": {},
   "source": [
    "Misc"
   ]
  },
  {
   "cell_type": "code",
   "execution_count": 3,
   "id": "d50f7474-762e-41ba-b49b-bc4c60f0e249",
   "metadata": {},
   "outputs": [
    {
     "data": {
      "text/plain": [
       "105"
      ]
     },
     "execution_count": 3,
     "metadata": {},
     "output_type": "execute_result"
    }
   ],
   "source": [
    "2 + 10 * 10 + 3"
   ]
  },
  {
   "cell_type": "code",
   "execution_count": 2,
   "id": "63f4b360-5cf4-4995-a43d-06798c30eb9e",
   "metadata": {},
   "outputs": [
    {
     "data": {
      "text/plain": [
       "156"
      ]
     },
     "execution_count": 2,
     "metadata": {},
     "output_type": "execute_result"
    }
   ],
   "source": [
    "# But if order is defined\n",
    "(2 + 10) * (10 + 3)"
   ]
  }
 ],
 "metadata": {
  "kernelspec": {
   "display_name": "Python 3",
   "language": "python",
   "name": "python3"
  },
  "language_info": {
   "codemirror_mode": {
    "name": "ipython",
    "version": 3
   },
   "file_extension": ".py",
   "mimetype": "text/x-python",
   "name": "python",
   "nbconvert_exporter": "python",
   "pygments_lexer": "ipython3",
   "version": "3.9.6"
  }
 },
 "nbformat": 4,
 "nbformat_minor": 5
}
