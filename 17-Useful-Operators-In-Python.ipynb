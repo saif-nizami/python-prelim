{
 "cells": [
  {
   "cell_type": "markdown",
   "id": "dc711433-f5e8-4d84-a61b-eea2a2220ce2",
   "metadata": {},
   "source": [
    "# range(start, stop, step)"
   ]
  },
  {
   "cell_type": "code",
   "execution_count": 3,
   "id": "baf7a6b0-33f5-49fc-952b-8d540210dac3",
   "metadata": {},
   "outputs": [
    {
     "name": "stdout",
     "output_type": "stream",
     "text": [
      "0\n",
      "1\n",
      "2\n",
      "3\n",
      "4\n",
      "5\n",
      "6\n",
      "7\n",
      "8\n",
      "9\n"
     ]
    }
   ],
   "source": [
    "for x in range(10): # Using stop\n",
    "    print(x)"
   ]
  },
  {
   "cell_type": "code",
   "execution_count": 5,
   "id": "e3d5f4d4-b816-468f-98e2-107c632bc979",
   "metadata": {},
   "outputs": [
    {
     "name": "stdout",
     "output_type": "stream",
     "text": [
      "10\n",
      "11\n",
      "12\n",
      "13\n",
      "14\n",
      "15\n",
      "16\n",
      "17\n",
      "18\n",
      "19\n"
     ]
    }
   ],
   "source": [
    "for x in range(10, 20): # Using start & stop\n",
    "    print(x)"
   ]
  },
  {
   "cell_type": "code",
   "execution_count": 8,
   "id": "25f103e2-37a2-455e-9504-4c4e950dcfe3",
   "metadata": {},
   "outputs": [
    {
     "name": "stdout",
     "output_type": "stream",
     "text": [
      "10\n",
      "12\n",
      "14\n",
      "16\n",
      "18\n"
     ]
    }
   ],
   "source": [
    "for x in range(10, 20, 2): # Using start, stop & step\n",
    "    print(x)"
   ]
  },
  {
   "cell_type": "code",
   "execution_count": 10,
   "id": "e56b2991-4077-4425-a04d-ea3e75e7b6b9",
   "metadata": {},
   "outputs": [
    {
     "data": {
      "text/plain": [
       "range(10, 20, 2)"
      ]
     },
     "execution_count": 10,
     "metadata": {},
     "output_type": "execute_result"
    }
   ],
   "source": [
    "range(10, 20, 2) # This is a generator."
   ]
  },
  {
   "cell_type": "code",
   "execution_count": 11,
   "id": "10c4054d-799d-4ec0-8807-92d893c2c7e4",
   "metadata": {},
   "outputs": [
    {
     "data": {
      "text/plain": [
       "[10, 12, 14, 16, 18]"
      ]
     },
     "execution_count": 11,
     "metadata": {},
     "output_type": "execute_result"
    }
   ],
   "source": [
    "list(range(10, 20, 2))"
   ]
  },
  {
   "cell_type": "markdown",
   "id": "e97a42a3-a281-4efd-b327-678bb8bd9474",
   "metadata": {},
   "source": [
    "# Enumerators"
   ]
  },
  {
   "cell_type": "code",
   "execution_count": 14,
   "id": "c10d0806-2489-4bb3-bb94-930636e762f8",
   "metadata": {},
   "outputs": [
    {
     "name": "stdout",
     "output_type": "stream",
     "text": [
      "At index 0 is the letter a\n",
      "At index 1 is the letter b\n",
      "At index 2 is the letter c\n",
      "At index 3 is the letter d\n",
      "At index 4 is the letter e\n"
     ]
    }
   ],
   "source": [
    "index_count = 0\n",
    "for letter in 'abcde':\n",
    "    print('At index {} is the letter {}'.format(index_count, letter))\n",
    "    index_count += 1"
   ]
  },
  {
   "cell_type": "code",
   "execution_count": 18,
   "id": "4e7c6c0a-82fc-4abc-95bd-a68f385ffada",
   "metadata": {},
   "outputs": [
    {
     "name": "stdout",
     "output_type": "stream",
     "text": [
      "index is : 0 and value is a\n",
      "index is : 1 and value is b\n",
      "index is : 2 and value is c\n",
      "index is : 3 and value is d\n",
      "index is : 4 and value is e\n"
     ]
    }
   ],
   "source": [
    "word = 'abcde'\n",
    "for idx, val in enumerate(word):\n",
    "    print(f'index is : {idx} and value is {val}')"
   ]
  },
  {
   "cell_type": "markdown",
   "id": "1e53e571-29c6-4518-910d-87b3015a8d20",
   "metadata": {},
   "source": [
    "# Zip Function"
   ]
  },
  {
   "cell_type": "code",
   "execution_count": 21,
   "id": "f1356003-2725-4fdf-b4e0-bf8d697040fa",
   "metadata": {},
   "outputs": [
    {
     "name": "stdout",
     "output_type": "stream",
     "text": [
      "(1, 'a', 'v')\n",
      "(2, 'b', 'w')\n",
      "(3, 'c', 'x')\n",
      "(4, 'd', 'y')\n",
      "(5, 'e', 'z')\n"
     ]
    }
   ],
   "source": [
    "mylist1 = [1,2,3,4,5,6,7]\n",
    "mylist2 = ['a', 'b', 'c', 'd', 'e']\n",
    "mylist3 = ['v', 'w', 'x', 'y', 'z']\n",
    "\n",
    "for item in zip(mylist1, mylist2, mylist3):\n",
    "    print(item)"
   ]
  },
  {
   "cell_type": "code",
   "execution_count": 25,
   "id": "1853e69a-0fa4-424f-a746-6898a1a0caac",
   "metadata": {},
   "outputs": [
    {
     "name": "stdout",
     "output_type": "stream",
     "text": [
      "[(1, 'a', 'v'), (2, 'b', 'w'), (3, 'c', 'x'), (4, 'd', 'y'), (5, 'e', 'z')]\n"
     ]
    }
   ],
   "source": [
    "mylist1 = [1,2,3,4,5,6,7]\n",
    "mylist2 = ['a', 'b', 'c', 'd', 'e']\n",
    "mylist3 = ['v', 'w', 'x', 'y', 'z']\n",
    "\n",
    "newlist = list(zip(mylist1, mylist2, mylist3))\n",
    "print(newlist)"
   ]
  },
  {
   "cell_type": "markdown",
   "id": "399be947-a1f7-4543-ac66-675ab4c476c3",
   "metadata": {},
   "source": [
    "# In Operator"
   ]
  },
  {
   "cell_type": "code",
   "execution_count": 26,
   "id": "4b4c3041-2fc1-4938-8c5e-69413a24181e",
   "metadata": {},
   "outputs": [
    {
     "data": {
      "text/plain": [
       "False"
      ]
     },
     "execution_count": 26,
     "metadata": {},
     "output_type": "execute_result"
    }
   ],
   "source": [
    "'x' in [1,2,3] # In List"
   ]
  },
  {
   "cell_type": "code",
   "execution_count": 27,
   "id": "8a764577-3fc2-4854-8a02-be6e1e0c370b",
   "metadata": {},
   "outputs": [
    {
     "data": {
      "text/plain": [
       "True"
      ]
     },
     "execution_count": 27,
     "metadata": {},
     "output_type": "execute_result"
    }
   ],
   "source": [
    "'x' in ['x', 'y', 'z']"
   ]
  },
  {
   "cell_type": "code",
   "execution_count": 28,
   "id": "3181ba6d-49f5-432d-8425-5c2dfab42ef0",
   "metadata": {},
   "outputs": [
    {
     "data": {
      "text/plain": [
       "True"
      ]
     },
     "execution_count": 28,
     "metadata": {},
     "output_type": "execute_result"
    }
   ],
   "source": [
    "'x' in ('x', 'y', 'z') # In Tuple"
   ]
  },
  {
   "cell_type": "code",
   "execution_count": 29,
   "id": "9ecd1c8e-8c96-44e3-8bb3-8dc384ff8a08",
   "metadata": {},
   "outputs": [
    {
     "data": {
      "text/plain": [
       "True"
      ]
     },
     "execution_count": 29,
     "metadata": {},
     "output_type": "execute_result"
    }
   ],
   "source": [
    "'x' in 'x is the third last alphabet!' # In String"
   ]
  },
  {
   "cell_type": "code",
   "execution_count": 31,
   "id": "ee6caff0-7774-4a6a-92c9-47c00e6e3577",
   "metadata": {},
   "outputs": [
    {
     "data": {
      "text/plain": [
       "True"
      ]
     },
     "execution_count": 31,
     "metadata": {},
     "output_type": "execute_result"
    }
   ],
   "source": [
    "'x' in {'x': 1, 'y': 2, 'z': 3} # In Dictionary"
   ]
  },
  {
   "cell_type": "code",
   "execution_count": 33,
   "id": "c5109f8f-4a46-4b24-a6b2-2f319ebd314a",
   "metadata": {},
   "outputs": [
    {
     "data": {
      "text/plain": [
       "True"
      ]
     },
     "execution_count": 33,
     "metadata": {},
     "output_type": "execute_result"
    }
   ],
   "source": [
    "dict = {'x': 'x', 'y': 2, 'z': 3}\n",
    "'x' in dict.keys()"
   ]
  },
  {
   "cell_type": "code",
   "execution_count": 34,
   "id": "a8ab5651-78e3-4500-b94d-4f09e4e32710",
   "metadata": {},
   "outputs": [
    {
     "data": {
      "text/plain": [
       "True"
      ]
     },
     "execution_count": 34,
     "metadata": {},
     "output_type": "execute_result"
    }
   ],
   "source": [
    "dict = {'x': 'x', 'y': 2, 'z': 3}\n",
    "'x' in dict.values()"
   ]
  },
  {
   "cell_type": "markdown",
   "id": "650fcfbd-1f17-455f-8fa8-1dabf64b9073",
   "metadata": {},
   "source": [
    "# Min & Max"
   ]
  },
  {
   "cell_type": "code",
   "execution_count": 35,
   "id": "83f48988-33bb-492f-b333-3b9d05b9f260",
   "metadata": {},
   "outputs": [
    {
     "data": {
      "text/plain": [
       "1"
      ]
     },
     "execution_count": 35,
     "metadata": {},
     "output_type": "execute_result"
    }
   ],
   "source": [
    "mylist = [1,2,3,4,5]\n",
    "min(mylist)"
   ]
  },
  {
   "cell_type": "code",
   "execution_count": 39,
   "id": "5e7beb44-c515-40b7-9dbd-26a037428ae7",
   "metadata": {},
   "outputs": [
    {
     "data": {
      "text/plain": [
       "5"
      ]
     },
     "execution_count": 39,
     "metadata": {},
     "output_type": "execute_result"
    }
   ],
   "source": [
    "mylist = [1,2,3,4,5]\n",
    "max(mylist)"
   ]
  },
  {
   "cell_type": "markdown",
   "id": "879a817e-877f-45e3-9973-72d7190ac88c",
   "metadata": {},
   "source": [
    "# Random Library"
   ]
  },
  {
   "cell_type": "code",
   "execution_count": 41,
   "id": "a00219f1-35da-4430-aef6-5ea6acc39af9",
   "metadata": {},
   "outputs": [],
   "source": [
    "from random import shuffle"
   ]
  },
  {
   "cell_type": "code",
   "execution_count": 43,
   "id": "ecf2851c-80c3-42cd-a542-08221cd5378a",
   "metadata": {},
   "outputs": [],
   "source": [
    "mylist = [1,2,3,4,5,6,7,8,9,10]"
   ]
  },
  {
   "cell_type": "code",
   "execution_count": 48,
   "id": "2b16fbfd-6a27-4abd-a6cb-6c2d20d4707a",
   "metadata": {},
   "outputs": [
    {
     "data": {
      "text/plain": [
       "[10, 5, 7, 2, 9, 1, 8, 4, 6, 3]"
      ]
     },
     "execution_count": 48,
     "metadata": {},
     "output_type": "execute_result"
    }
   ],
   "source": [
    "shuffle(mylist)\n",
    "mylist"
   ]
  },
  {
   "cell_type": "code",
   "execution_count": 52,
   "id": "0cbbe90d-5267-40c8-bef9-0896a92cba48",
   "metadata": {},
   "outputs": [],
   "source": [
    "from random import randint"
   ]
  },
  {
   "cell_type": "code",
   "execution_count": 54,
   "id": "9e02c338-d1dd-4245-bbf1-75470ec62feb",
   "metadata": {},
   "outputs": [
    {
     "data": {
      "text/plain": [
       "78"
      ]
     },
     "execution_count": 54,
     "metadata": {},
     "output_type": "execute_result"
    }
   ],
   "source": [
    "mynum = randint(1, 100)\n",
    "mynum"
   ]
  },
  {
   "cell_type": "code",
   "execution_count": 56,
   "id": "4b60ec46-fd5b-40e5-86e7-25ec54f075b0",
   "metadata": {},
   "outputs": [
    {
     "name": "stdin",
     "output_type": "stream",
     "text": [
      "Enter a number here : 10\n"
     ]
    }
   ],
   "source": [
    "result = input('Enter a number here :') # Always returns a string"
   ]
  },
  {
   "cell_type": "code",
   "execution_count": 57,
   "id": "6b05d072-572b-46b7-b309-bcc1ec96b9c4",
   "metadata": {},
   "outputs": [
    {
     "data": {
      "text/plain": [
       "'10'"
      ]
     },
     "execution_count": 57,
     "metadata": {},
     "output_type": "execute_result"
    }
   ],
   "source": [
    "result"
   ]
  },
  {
   "cell_type": "code",
   "execution_count": 58,
   "id": "a70cb4b9-a353-4c97-ac56-b2b25627109a",
   "metadata": {},
   "outputs": [
    {
     "data": {
      "text/plain": [
       "10.0"
      ]
     },
     "execution_count": 58,
     "metadata": {},
     "output_type": "execute_result"
    }
   ],
   "source": [
    "float(result)"
   ]
  },
  {
   "cell_type": "code",
   "execution_count": 59,
   "id": "a1946079-b8a1-4991-aea6-e14234af6cb7",
   "metadata": {},
   "outputs": [
    {
     "data": {
      "text/plain": [
       "10"
      ]
     },
     "execution_count": 59,
     "metadata": {},
     "output_type": "execute_result"
    }
   ],
   "source": [
    "int(result)"
   ]
  },
  {
   "cell_type": "code",
   "execution_count": 62,
   "id": "304e499d-adbb-4e87-a3af-e2c985f05b60",
   "metadata": {},
   "outputs": [
    {
     "name": "stdin",
     "output_type": "stream",
     "text": [
      "Enter a number here : 100\n"
     ]
    }
   ],
   "source": [
    "result = int(input('Enter a number here :')) # You could also parse the result directly"
   ]
  },
  {
   "cell_type": "code",
   "execution_count": 63,
   "id": "d0f784f1-04d7-4208-878b-764ce169e467",
   "metadata": {},
   "outputs": [
    {
     "data": {
      "text/plain": [
       "int"
      ]
     },
     "execution_count": 63,
     "metadata": {},
     "output_type": "execute_result"
    }
   ],
   "source": [
    "type(result)"
   ]
  }
 ],
 "metadata": {
  "kernelspec": {
   "display_name": "Python 3 (ipykernel)",
   "language": "python",
   "name": "python3"
  },
  "language_info": {
   "codemirror_mode": {
    "name": "ipython",
    "version": 3
   },
   "file_extension": ".py",
   "mimetype": "text/x-python",
   "name": "python",
   "nbconvert_exporter": "python",
   "pygments_lexer": "ipython3",
   "version": "3.13.7"
  }
 },
 "nbformat": 4,
 "nbformat_minor": 5
}
