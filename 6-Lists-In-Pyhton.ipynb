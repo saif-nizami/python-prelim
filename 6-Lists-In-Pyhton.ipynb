{
 "cells": [
  {
   "cell_type": "markdown",
   "id": "fff8dfbb-bde1-49b2-badc-256171486d68",
   "metadata": {},
   "source": [
    "# LISTS IN PYTHON ( lists is an ordered sequence of elements, indexing and slicing is possible )"
   ]
  },
  {
   "cell_type": "code",
   "execution_count": 2,
   "id": "aecb8260-b392-4c3d-b241-ceb60430b687",
   "metadata": {},
   "outputs": [],
   "source": [
    "my_list = [1,2,3,4,5]"
   ]
  },
  {
   "cell_type": "code",
   "execution_count": 3,
   "id": "b1b45bf6-96e3-434d-8fe4-84e4ca0af1b3",
   "metadata": {},
   "outputs": [],
   "source": [
    "my_list = ['string', 100, 23.3]"
   ]
  },
  {
   "cell_type": "code",
   "execution_count": 5,
   "id": "57990004-b232-4610-ac6c-6c667753dff1",
   "metadata": {},
   "outputs": [
    {
     "data": {
      "text/plain": [
       "3"
      ]
     },
     "execution_count": 5,
     "metadata": {},
     "output_type": "execute_result"
    }
   ],
   "source": [
    "len(my_list)"
   ]
  },
  {
   "cell_type": "code",
   "execution_count": 6,
   "id": "a770aedc-5559-4190-bee9-9ca1377d7b10",
   "metadata": {},
   "outputs": [
    {
     "name": "stdout",
     "output_type": "stream",
     "text": [
      "['one', 'two', 'three']\n"
     ]
    }
   ],
   "source": [
    "my_list = ['one', 'two', 'three']\n",
    "print(my_list)"
   ]
  },
  {
   "cell_type": "code",
   "execution_count": 8,
   "id": "d615764c-6539-4657-9da9-433dbc90a3cd",
   "metadata": {},
   "outputs": [
    {
     "data": {
      "text/plain": [
       "'one'"
      ]
     },
     "execution_count": 8,
     "metadata": {},
     "output_type": "execute_result"
    }
   ],
   "source": [
    "my_list[0]"
   ]
  },
  {
   "cell_type": "code",
   "execution_count": 10,
   "id": "8af95ff1-3651-4ca3-af34-104d3955f5c0",
   "metadata": {},
   "outputs": [
    {
     "data": {
      "text/plain": [
       "['two', 'three']"
      ]
     },
     "execution_count": 10,
     "metadata": {},
     "output_type": "execute_result"
    }
   ],
   "source": [
    "my_list[1:]"
   ]
  },
  {
   "cell_type": "code",
   "execution_count": 11,
   "id": "0d341cf7-d40a-4d63-8fba-c3c2cb91004a",
   "metadata": {},
   "outputs": [],
   "source": [
    "another_list = ['four', 'five']"
   ]
  },
  {
   "cell_type": "code",
   "execution_count": 13,
   "id": "1170351e-1a1a-4d04-8883-5cdcc56f9755",
   "metadata": {},
   "outputs": [],
   "source": [
    "new_list = my_list + another_list"
   ]
  },
  {
   "cell_type": "code",
   "execution_count": 14,
   "id": "c8e0d48b-3a4e-4903-9f6b-d5e49bce1402",
   "metadata": {},
   "outputs": [
    {
     "data": {
      "text/plain": [
       "['one', 'two', 'three', 'four', 'five']"
      ]
     },
     "execution_count": 14,
     "metadata": {},
     "output_type": "execute_result"
    }
   ],
   "source": [
    "new_list"
   ]
  },
  {
   "cell_type": "markdown",
   "id": "026dbbaf-89ca-4910-9054-22cb6d36eab7",
   "metadata": {},
   "source": [
    "List is mutable, string is not"
   ]
  },
  {
   "cell_type": "code",
   "execution_count": 15,
   "id": "a5506bb8-798e-4287-a6ee-8279d88fc457",
   "metadata": {},
   "outputs": [],
   "source": [
    "new_list[0] = 'ONE IN ALL CAPS'"
   ]
  },
  {
   "cell_type": "code",
   "execution_count": 16,
   "id": "2aecda29-6061-4c7d-9b9e-c403f6899151",
   "metadata": {},
   "outputs": [
    {
     "data": {
      "text/plain": [
       "['ONE IN ALL CAPS', 'two', 'three', 'four', 'five']"
      ]
     },
     "execution_count": 16,
     "metadata": {},
     "output_type": "execute_result"
    }
   ],
   "source": [
    "new_list"
   ]
  },
  {
   "cell_type": "code",
   "execution_count": 28,
   "id": "5cc05570-463a-4f87-acdd-5625df65831c",
   "metadata": {},
   "outputs": [],
   "source": [
    "new_list.append('six')"
   ]
  },
  {
   "cell_type": "code",
   "execution_count": 29,
   "id": "bec3472b-0cb7-439b-ba7e-449a8fefa77d",
   "metadata": {},
   "outputs": [
    {
     "data": {
      "text/plain": [
       "['ONE IN ALL CAPS', 'two', 'three', 'four', 'five', 'six']"
      ]
     },
     "execution_count": 29,
     "metadata": {},
     "output_type": "execute_result"
    }
   ],
   "source": [
    "new_list"
   ]
  },
  {
   "cell_type": "code",
   "execution_count": 31,
   "id": "ce962b8f-3375-4e14-8ad6-843b25a15791",
   "metadata": {},
   "outputs": [
    {
     "data": {
      "text/plain": [
       "'six'"
      ]
     },
     "execution_count": 31,
     "metadata": {},
     "output_type": "execute_result"
    }
   ],
   "source": [
    "new_list.pop()"
   ]
  },
  {
   "cell_type": "code",
   "execution_count": 32,
   "id": "177594d7-8c7f-4072-8a2a-471f93b4de47",
   "metadata": {},
   "outputs": [
    {
     "data": {
      "text/plain": [
       "'ONE IN ALL CAPS'"
      ]
     },
     "execution_count": 32,
     "metadata": {},
     "output_type": "execute_result"
    }
   ],
   "source": [
    "new_list.pop(0)"
   ]
  },
  {
   "cell_type": "code",
   "execution_count": 33,
   "id": "4227c159-82a0-4a14-95ed-f0110dc2f3e4",
   "metadata": {},
   "outputs": [
    {
     "data": {
      "text/plain": [
       "['two', 'three', 'four', 'five']"
      ]
     },
     "execution_count": 33,
     "metadata": {},
     "output_type": "execute_result"
    }
   ],
   "source": [
    "new_list"
   ]
  },
  {
   "cell_type": "code",
   "execution_count": 36,
   "id": "9fa0b51e-753d-4e0f-82bc-4d721d1d164a",
   "metadata": {},
   "outputs": [],
   "source": [
    "new_list = ['a', 's', 'd', 'f', 'b']\n",
    "num_list = [6,4,7,2,9,0]"
   ]
  },
  {
   "cell_type": "code",
   "execution_count": 37,
   "id": "600da4eb-935c-40de-b9bf-7be386822bff",
   "metadata": {},
   "outputs": [],
   "source": [
    "new_list.sort()"
   ]
  },
  {
   "cell_type": "code",
   "execution_count": 38,
   "id": "b1e1aa3c-25fb-42b4-9ab0-c81c37b8313b",
   "metadata": {},
   "outputs": [
    {
     "data": {
      "text/plain": [
       "['a', 'b', 'd', 'f', 's']"
      ]
     },
     "execution_count": 38,
     "metadata": {},
     "output_type": "execute_result"
    }
   ],
   "source": [
    "new_list"
   ]
  },
  {
   "cell_type": "code",
   "execution_count": 39,
   "id": "32715c40-2d19-47ab-87ce-4e907b954e1e",
   "metadata": {},
   "outputs": [],
   "source": [
    "sorted_list = new_list.sort()"
   ]
  },
  {
   "cell_type": "markdown",
   "id": "4f2397b4-f235-49ef-9fba-d25fc1f398cd",
   "metadata": {},
   "source": [
    "sort() method does not return anything that's why sorted_list is NoneType"
   ]
  },
  {
   "cell_type": "code",
   "execution_count": 43,
   "id": "60c3d2a4-fc33-4850-918b-ba8de8eb4eef",
   "metadata": {},
   "outputs": [
    {
     "data": {
      "text/plain": [
       "NoneType"
      ]
     },
     "execution_count": 43,
     "metadata": {},
     "output_type": "execute_result"
    }
   ],
   "source": [
    "type(sorted_list) "
   ]
  },
  {
   "cell_type": "markdown",
   "id": "67d108e1-796e-4389-927d-ee7084eab87b",
   "metadata": {},
   "source": [
    "Do this instead!!!1"
   ]
  },
  {
   "cell_type": "code",
   "execution_count": 50,
   "id": "241f5ee0-bdbf-4bed-bd02-a2d773b57cc6",
   "metadata": {},
   "outputs": [],
   "source": [
    "new_list.sort()\n",
    "sorted_list = new_list"
   ]
  },
  {
   "cell_type": "code",
   "execution_count": 51,
   "id": "5e59ba20-3363-4160-93d0-50cde7166c60",
   "metadata": {
    "jp-MarkdownHeadingCollapsed": true
   },
   "outputs": [
    {
     "data": {
      "text/plain": [
       "['a', 'b', 'd', 'f', 's']"
      ]
     },
     "execution_count": 51,
     "metadata": {},
     "output_type": "execute_result"
    }
   ],
   "source": [
    "sorted_list"
   ]
  },
  {
   "cell_type": "code",
   "execution_count": 53,
   "id": "fec20dd9-ead8-4ee7-8af8-6ac020c42ae0",
   "metadata": {},
   "outputs": [
    {
     "data": {
      "text/plain": [
       "[0, 2, 4, 6, 7, 9]"
      ]
     },
     "execution_count": 53,
     "metadata": {},
     "output_type": "execute_result"
    }
   ],
   "source": [
    "num_list.sort()\n",
    "num_list"
   ]
  },
  {
   "cell_type": "code",
   "execution_count": 54,
   "id": "60f2f3d6-ecde-4236-84a9-3eaf1913368a",
   "metadata": {},
   "outputs": [
    {
     "data": {
      "text/plain": [
       "[9, 7, 6, 4, 2, 0]"
      ]
     },
     "execution_count": 54,
     "metadata": {},
     "output_type": "execute_result"
    }
   ],
   "source": [
    "num_list.reverse()\n",
    "num_list"
   ]
  }
 ],
 "metadata": {
  "kernelspec": {
   "display_name": "Python 3 (ipykernel)",
   "language": "python",
   "name": "python3"
  },
  "language_info": {
   "codemirror_mode": {
    "name": "ipython",
    "version": 3
   },
   "file_extension": ".py",
   "mimetype": "text/x-python",
   "name": "python",
   "nbconvert_exporter": "python",
   "pygments_lexer": "ipython3",
   "version": "3.13.2"
  }
 },
 "nbformat": 4,
 "nbformat_minor": 5
}
