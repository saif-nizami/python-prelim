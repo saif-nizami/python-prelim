{
 "cells": [
  {
   "cell_type": "markdown",
   "id": "f9a20d74-e624-422e-9739-7fd4b91d4c0a",
   "metadata": {},
   "source": [
    "# For loops in Python"
   ]
  },
  {
   "cell_type": "code",
   "execution_count": 2,
   "id": "0877eef2-ca42-460f-8599-b385e365b356",
   "metadata": {},
   "outputs": [],
   "source": [
    "mylist = [1,2,3,4,5,6,7,8,9,10] # Looping over list"
   ]
  },
  {
   "cell_type": "code",
   "execution_count": 3,
   "id": "ae5bb9c0-5771-4d41-84ef-b82fcd60fbb1",
   "metadata": {},
   "outputs": [
    {
     "name": "stdout",
     "output_type": "stream",
     "text": [
      "1\n",
      "2\n",
      "3\n",
      "4\n",
      "5\n",
      "6\n",
      "7\n",
      "8\n",
      "9\n",
      "10\n"
     ]
    }
   ],
   "source": [
    "for num in mylist:\n",
    "    print(num)"
   ]
  },
  {
   "cell_type": "code",
   "execution_count": 4,
   "id": "f53d62f1-c70a-4d13-9698-78497dc08302",
   "metadata": {},
   "outputs": [
    {
     "name": "stdout",
     "output_type": "stream",
     "text": [
      "Number is odd :  1\n",
      "Number is even :  2\n",
      "Number is odd :  3\n",
      "Number is even :  4\n",
      "Number is odd :  5\n",
      "Number is even :  6\n",
      "Number is odd :  7\n",
      "Number is even :  8\n",
      "Number is odd :  9\n",
      "Number is even :  10\n"
     ]
    }
   ],
   "source": [
    "for num in mylist:\n",
    "    # Check if num is even\n",
    "    if num % 2 == 0:\n",
    "        print(\"Number is even : \", num)\n",
    "    else:\n",
    "        print(\"Number is odd : \", num)"
   ]
  },
  {
   "cell_type": "code",
   "execution_count": 11,
   "id": "91aeb73b-29e4-4ff1-89a3-9e965e995b97",
   "metadata": {},
   "outputs": [
    {
     "name": "stdout",
     "output_type": "stream",
     "text": [
      "Current Tally Index  1  :  1\n",
      "Current Tally Index  2  :  3\n",
      "Current Tally Index  3  :  6\n",
      "Current Tally Index  4  :  10\n",
      "Current Tally Index  5  :  15\n",
      "Current Tally Index  6  :  21\n",
      "Current Tally Index  7  :  28\n",
      "Current Tally Index  8  :  36\n",
      "Current Tally Index  9  :  45\n",
      "Current Tally Index  10  :  55\n",
      "Final Total :  55\n"
     ]
    }
   ],
   "source": [
    "listsum = 0\n",
    "\n",
    "for idx, num in enumerate(mylist):\n",
    "    listsum += num\n",
    "    print(\"Current Tally Index \", idx+1, \" : \", listsum)\n",
    "\n",
    "print(\"Final Total : \", listsum)"
   ]
  },
  {
   "cell_type": "code",
   "execution_count": 12,
   "id": "e14e55c2-f217-45f3-a8d9-961db7615f00",
   "metadata": {},
   "outputs": [
    {
     "name": "stdout",
     "output_type": "stream",
     "text": [
      "M\n",
      "Y\n",
      " \n",
      "S\n",
      "T\n",
      "R\n",
      "I\n",
      "N\n",
      "G\n"
     ]
    }
   ],
   "source": [
    "for letter in \"MY STRING\": # Looping over string\n",
    "    print(letter)"
   ]
  },
  {
   "cell_type": "code",
   "execution_count": 13,
   "id": "bf9d039a-446a-4b76-8105-be9df3481925",
   "metadata": {},
   "outputs": [
    {
     "name": "stdout",
     "output_type": "stream",
     "text": [
      "1\n",
      "2\n",
      "3\n",
      "4\n",
      "5\n"
     ]
    }
   ],
   "source": [
    "mytupple = (1,2,3,4,5) # Looping over tuple\n",
    "\n",
    "for num in mytupple:\n",
    "    print(num)"
   ]
  },
  {
   "cell_type": "code",
   "execution_count": 14,
   "id": "8be00e35-d7f1-4dc4-b621-fcacc79ce25c",
   "metadata": {},
   "outputs": [
    {
     "data": {
      "text/plain": [
       "4"
      ]
     },
     "execution_count": 14,
     "metadata": {},
     "output_type": "execute_result"
    }
   ],
   "source": [
    "mycustomlist = [(1,2), (3,4), (5,6), (7,8)] # Tuple Unpacking\n",
    "len(mycustomlist)"
   ]
  },
  {
   "cell_type": "code",
   "execution_count": 16,
   "id": "3019e827-9195-4f37-876a-78989789f514",
   "metadata": {},
   "outputs": [
    {
     "name": "stdout",
     "output_type": "stream",
     "text": [
      "1\n",
      "2\n",
      "3\n",
      "4\n",
      "5\n",
      "6\n",
      "7\n",
      "8\n"
     ]
    }
   ],
   "source": [
    "for a,b in mycustomlist: # Tuple Unpacking\n",
    "    print(a)\n",
    "    print(b)"
   ]
  },
  {
   "cell_type": "code",
   "execution_count": 17,
   "id": "30a82a49-c50c-45c7-8c72-cebade440f03",
   "metadata": {},
   "outputs": [
    {
     "data": {
      "text/plain": [
       "3"
      ]
     },
     "execution_count": 17,
     "metadata": {},
     "output_type": "execute_result"
    }
   ],
   "source": [
    "mycustomlist2 = [(1,2,3), (4,5,6), (7,8,9)] # Tuple Unpacking\n",
    "len(mycustomlist2)"
   ]
  },
  {
   "cell_type": "code",
   "execution_count": 19,
   "id": "56b858da-9dd6-47ec-a0ca-82ca3805dc9a",
   "metadata": {},
   "outputs": [
    {
     "name": "stdout",
     "output_type": "stream",
     "text": [
      "2\n",
      "5\n",
      "8\n"
     ]
    }
   ],
   "source": [
    "for a,b,c in mycustomlist2: # Custom Tuple Extraction\n",
    "    print(b)"
   ]
  },
  {
   "cell_type": "code",
   "execution_count": 20,
   "id": "68811630-8d40-41d5-bec8-dc425b95aeab",
   "metadata": {},
   "outputs": [],
   "source": [
    "mydictionary = {'k1': 1, 'k2': 2, 'k3': 3}"
   ]
  },
  {
   "cell_type": "code",
   "execution_count": 21,
   "id": "3dce43b8-3a26-47f9-a4fa-2ebeac6126a3",
   "metadata": {},
   "outputs": [
    {
     "name": "stdout",
     "output_type": "stream",
     "text": [
      "k1\n",
      "k2\n",
      "k3\n"
     ]
    }
   ],
   "source": [
    "for key in mydictionary: # Only got the key using this way\n",
    "    print(key)"
   ]
  },
  {
   "cell_type": "code",
   "execution_count": 22,
   "id": "142b691a-7709-4ea3-a198-9c55a92b9d4c",
   "metadata": {},
   "outputs": [
    {
     "name": "stdout",
     "output_type": "stream",
     "text": [
      "('k1', 1)\n",
      "('k2', 2)\n",
      "('k3', 3)\n"
     ]
    }
   ],
   "source": [
    "for key in mydictionary.items(): # Here we get the tuple from the dictionary\n",
    "    print(key)"
   ]
  },
  {
   "cell_type": "code",
   "execution_count": 23,
   "id": "7cb74781-efb4-4e7c-a6f0-55bcfc298ca3",
   "metadata": {},
   "outputs": [
    {
     "name": "stdout",
     "output_type": "stream",
     "text": [
      "1\n",
      "2\n",
      "3\n"
     ]
    }
   ],
   "source": [
    "for key,value in mydictionary.items(): # Now using tuple unpacking we can extract the values from a dictionary.\n",
    "    print(value)"
   ]
  },
  {
   "cell_type": "code",
   "execution_count": 26,
   "id": "e3d7f5d0-30e6-427f-b0a4-7d47dbfe747c",
   "metadata": {},
   "outputs": [
    {
     "name": "stdout",
     "output_type": "stream",
     "text": [
      "k1\n",
      "k2\n",
      "k3\n"
     ]
    }
   ],
   "source": [
    "for key in mydictionary.keys(): # Only fetch keys\n",
    "    print(key)"
   ]
  },
  {
   "cell_type": "code",
   "execution_count": 27,
   "id": "d76f5c78-856e-41a9-83e7-729aaa29bb71",
   "metadata": {},
   "outputs": [
    {
     "name": "stdout",
     "output_type": "stream",
     "text": [
      "1\n",
      "2\n",
      "3\n"
     ]
    }
   ],
   "source": [
    "for val in mydictionary.values(): # Only fetch values\n",
    "    print(val)"
   ]
  }
 ],
 "metadata": {
  "kernelspec": {
   "display_name": "Python 3 (ipykernel)",
   "language": "python",
   "name": "python3"
  },
  "language_info": {
   "codemirror_mode": {
    "name": "ipython",
    "version": 3
   },
   "file_extension": ".py",
   "mimetype": "text/x-python",
   "name": "python",
   "nbconvert_exporter": "python",
   "pygments_lexer": "ipython3",
   "version": "3.13.7"
  }
 },
 "nbformat": 4,
 "nbformat_minor": 5
}
