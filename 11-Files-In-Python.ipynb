{
 "cells": [
  {
   "cell_type": "markdown",
   "id": "8cb432a2-494f-4efa-922d-b95578c192db",
   "metadata": {},
   "source": [
    "# Files In Python"
   ]
  },
  {
   "cell_type": "code",
   "execution_count": 9,
   "id": "73bc4d78-34b4-4eff-a322-27b47cc7a6c3",
   "metadata": {},
   "outputs": [],
   "source": [
    "!mkdir -p assets # Creating a folder. This code cannot be out together with below code i.e not in the same cell."
   ]
  },
  {
   "cell_type": "code",
   "execution_count": 10,
   "id": "61e81a6b-e6c2-40ab-819e-0cd45711b401",
   "metadata": {},
   "outputs": [
    {
     "name": "stdout",
     "output_type": "stream",
     "text": [
      "Writing assets/myfile.txt\n"
     ]
    }
   ],
   "source": [
    "%%writefile assets/myfile.txt # creating a file inside the folder and adding data to it.\n",
    "This is the first line\n",
    "This is the second line\n",
    "This is the third line"
   ]
  },
  {
   "cell_type": "code",
   "execution_count": 11,
   "id": "d397c18f-a720-45a3-a402-afdecee51780",
   "metadata": {},
   "outputs": [
    {
     "data": {
      "text/plain": [
       "'/Users/saifnizami/Documents/python_practice/projects/python-prelim'"
      ]
     },
     "execution_count": 11,
     "metadata": {},
     "output_type": "execute_result"
    }
   ],
   "source": [
    "pwd # Command for knowing the current directory"
   ]
  },
  {
   "cell_type": "code",
   "execution_count": 12,
   "id": "f9f2680a-cd78-4829-b614-a3565a4d82b3",
   "metadata": {},
   "outputs": [
    {
     "ename": "FileNotFoundError",
     "evalue": "[Errno 2] No such file or directory: 'myfile.txt'",
     "output_type": "error",
     "traceback": [
      "\u001b[31m---------------------------------------------------------------------------\u001b[39m",
      "\u001b[31mFileNotFoundError\u001b[39m                         Traceback (most recent call last)",
      "\u001b[36mCell\u001b[39m\u001b[36m \u001b[39m\u001b[32mIn[12]\u001b[39m\u001b[32m, line 1\u001b[39m\n\u001b[32m----> \u001b[39m\u001b[32m1\u001b[39m myfile = \u001b[38;5;28;43mopen\u001b[39;49m\u001b[43m(\u001b[49m\u001b[33;43m'\u001b[39;49m\u001b[33;43mmyfile.txt\u001b[39;49m\u001b[33;43m'\u001b[39;49m\u001b[43m)\u001b[49m\n",
      "\u001b[36mFile \u001b[39m\u001b[32m/opt/homebrew/Cellar/jupyterlab/4.4.7/libexec/lib/python3.13/site-packages/IPython/core/interactiveshell.py:343\u001b[39m, in \u001b[36m_modified_open\u001b[39m\u001b[34m(file, *args, **kwargs)\u001b[39m\n\u001b[32m    336\u001b[39m \u001b[38;5;28;01mif\u001b[39;00m file \u001b[38;5;129;01min\u001b[39;00m {\u001b[32m0\u001b[39m, \u001b[32m1\u001b[39m, \u001b[32m2\u001b[39m}:\n\u001b[32m    337\u001b[39m     \u001b[38;5;28;01mraise\u001b[39;00m \u001b[38;5;167;01mValueError\u001b[39;00m(\n\u001b[32m    338\u001b[39m         \u001b[33mf\u001b[39m\u001b[33m\"\u001b[39m\u001b[33mIPython won\u001b[39m\u001b[33m'\u001b[39m\u001b[33mt let you open fd=\u001b[39m\u001b[38;5;132;01m{\u001b[39;00mfile\u001b[38;5;132;01m}\u001b[39;00m\u001b[33m by default \u001b[39m\u001b[33m\"\u001b[39m\n\u001b[32m    339\u001b[39m         \u001b[33m\"\u001b[39m\u001b[33mas it is likely to crash IPython. If you know what you are doing, \u001b[39m\u001b[33m\"\u001b[39m\n\u001b[32m    340\u001b[39m         \u001b[33m\"\u001b[39m\u001b[33myou can use builtins\u001b[39m\u001b[33m'\u001b[39m\u001b[33m open.\u001b[39m\u001b[33m\"\u001b[39m\n\u001b[32m    341\u001b[39m     )\n\u001b[32m--> \u001b[39m\u001b[32m343\u001b[39m \u001b[38;5;28;01mreturn\u001b[39;00m \u001b[43mio_open\u001b[49m\u001b[43m(\u001b[49m\u001b[43mfile\u001b[49m\u001b[43m,\u001b[49m\u001b[43m \u001b[49m\u001b[43m*\u001b[49m\u001b[43margs\u001b[49m\u001b[43m,\u001b[49m\u001b[43m \u001b[49m\u001b[43m*\u001b[49m\u001b[43m*\u001b[49m\u001b[43mkwargs\u001b[49m\u001b[43m)\u001b[49m\n",
      "\u001b[31mFileNotFoundError\u001b[39m: [Errno 2] No such file or directory: 'myfile.txt'"
     ]
    }
   ],
   "source": [
    "myfile = open('myfile.txt') # Error because 'FileNotFoundError' '[Errno 2] No such file or directory: 'myfile.txt'' 'WRONG DIRECTORY'"
   ]
  },
  {
   "cell_type": "code",
   "execution_count": 13,
   "id": "ef887c07-976f-4cfe-8194-88851608915c",
   "metadata": {},
   "outputs": [],
   "source": [
    "myfile = open('assets/myfile.txt') # Has no output, it's correct."
   ]
  },
  {
   "cell_type": "code",
   "execution_count": 14,
   "id": "5ba7bd02-3543-470b-aa42-4f533bf162d3",
   "metadata": {},
   "outputs": [
    {
     "data": {
      "text/plain": [
       "'This is the first line\\nThis is the second line\\nThis is the third line\\n'"
      ]
     },
     "execution_count": 14,
     "metadata": {},
     "output_type": "execute_result"
    }
   ],
   "source": [
    "myfile.read() # Returns string of the entire content."
   ]
  },
  {
   "cell_type": "code",
   "execution_count": 15,
   "id": "cf9f9f64-1ec4-4016-8065-738966609eb4",
   "metadata": {},
   "outputs": [
    {
     "data": {
      "text/plain": [
       "''"
      ]
     },
     "execution_count": 15,
     "metadata": {},
     "output_type": "execute_result"
    }
   ],
   "source": [
    "myfile.read() # This returns an enpty string because the reading cursor is already at the end of the content due to the previous read operation."
   ]
  },
  {
   "cell_type": "code",
   "execution_count": 19,
   "id": "2d7c953c-fa74-4429-8de5-c5f850ee3353",
   "metadata": {},
   "outputs": [
    {
     "data": {
      "text/plain": [
       "0"
      ]
     },
     "execution_count": 19,
     "metadata": {},
     "output_type": "execute_result"
    }
   ],
   "source": [
    "myfile.seek(0) # This resets the cursor back to the start of the document."
   ]
  },
  {
   "cell_type": "code",
   "execution_count": 20,
   "id": "53debc79-c317-4cff-83d9-65538b7fe925",
   "metadata": {},
   "outputs": [
    {
     "data": {
      "text/plain": [
       "'This is the first line\\nThis is the second line\\nThis is the third line\\n'"
      ]
     },
     "execution_count": 20,
     "metadata": {},
     "output_type": "execute_result"
    }
   ],
   "source": [
    "contents = myfile.read() # Now this works!\n",
    "contents"
   ]
  },
  {
   "cell_type": "code",
   "execution_count": 28,
   "id": "00ee4316-8dcc-4789-b54b-f43985513dd5",
   "metadata": {},
   "outputs": [
    {
     "data": {
      "text/plain": [
       "'This is the first line\\n'"
      ]
     },
     "execution_count": 28,
     "metadata": {},
     "output_type": "execute_result"
    }
   ],
   "source": [
    "myfile.seek(0)\n",
    "myfile.readline() # For reading a single line"
   ]
  },
  {
   "cell_type": "code",
   "execution_count": 29,
   "id": "430e1b04-2ea4-4306-bbb8-79ea966fdfd9",
   "metadata": {},
   "outputs": [
    {
     "data": {
      "text/plain": [
       "['This is the first line\\n',\n",
       " 'This is the second line\\n',\n",
       " 'This is the third line\\n']"
      ]
     },
     "execution_count": 29,
     "metadata": {},
     "output_type": "execute_result"
    }
   ],
   "source": [
    "myfile.seek(0)\n",
    "myfile.readlines() # For reading all lines and returns a list"
   ]
  },
  {
   "cell_type": "code",
   "execution_count": 39,
   "id": "32c892a1-7e69-4b48-b311-471e433e7c96",
   "metadata": {},
   "outputs": [],
   "source": [
    "# myfile = open('assets/myfile.txt') # Old Way to open files.\n",
    "# myfile,.close() # This was a mandatory step to do after opening a file using the old way.\n",
    "with open('assets/myfile.txt') as my_new_file: # This new handles to also close the open file, so that the system doesn't barred the access that file.\n",
    "    contents = my_new_file.read()"
   ]
  },
  {
   "cell_type": "code",
   "execution_count": 40,
   "id": "27744875-d513-4bb7-adeb-b8ddde624550",
   "metadata": {},
   "outputs": [
    {
     "data": {
      "text/plain": [
       "'This is the first line\\nThis is the second line\\nThis is the third line\\n'"
      ]
     },
     "execution_count": 40,
     "metadata": {},
     "output_type": "execute_result"
    }
   ],
   "source": [
    "contents"
   ]
  },
  {
   "cell_type": "code",
   "execution_count": null,
   "id": "e823a4b9-48aa-4303-acc8-140a3e4eb315",
   "metadata": {},
   "outputs": [],
   "source": [
    "with open('assets/myfile.txt') as myfile: # Set cursor appropriately over any code and press shift+tab for in built definitions."
   ]
  },
  {
   "cell_type": "markdown",
   "id": "626e188b-3760-465d-942c-70d5eda6a612",
   "metadata": {},
   "source": [
    "# Read, Write Operations In Python\n",
    "\n",
    "## mode('r') - read only\n",
    "## mode('w') - write only ( will overwrite files or create new ones )\n",
    "## mode('a') - append only ( will add onto files )\n",
    "## mode('r+') - reading and writing\n",
    "## mode('w+') - writing and reading ( overwrites existing files or creates a new one )"
   ]
  },
  {
   "cell_type": "code",
   "execution_count": 55,
   "id": "6e0ed6c9-98fc-4598-a351-43ac9b59ddc8",
   "metadata": {},
   "outputs": [
    {
     "name": "stdout",
     "output_type": "stream",
     "text": [
      "Overwriting assets/mysecondfile.txt\n"
     ]
    }
   ],
   "source": [
    "%%writefile assets/mysecondfile.txt\n",
    "This is the first line\n",
    "This is the second line\n",
    "This is the third line"
   ]
  },
  {
   "cell_type": "code",
   "execution_count": 49,
   "id": "b03e1a03-d45c-4bc2-855a-2ea815d66c51",
   "metadata": {},
   "outputs": [
    {
     "name": "stdout",
     "output_type": "stream",
     "text": [
      "This is the first line\n",
      "This is the second line\n",
      "This is the third line\n",
      "\n"
     ]
    }
   ],
   "source": [
    "with open('assets/mysecondfile.txt', mode='r') as my_second_file:\n",
    "    print(my_second_file.read())"
   ]
  },
  {
   "cell_type": "code",
   "execution_count": 56,
   "id": "0901f631-4c25-4190-bb76-028462969767",
   "metadata": {},
   "outputs": [],
   "source": [
    "with open('assets/mysecondfile.txt', mode='a') as my_second_file:\n",
    "    my_second_file.write('\\nThis is the fourth line')"
   ]
  },
  {
   "cell_type": "code",
   "execution_count": 57,
   "id": "1ea166cc-f321-4c9f-9d1b-943605164ba0",
   "metadata": {},
   "outputs": [
    {
     "name": "stdout",
     "output_type": "stream",
     "text": [
      "This is the first line\n",
      "This is the second line\n",
      "This is the third line\n",
      "\n",
      "This is the fourth line\n"
     ]
    }
   ],
   "source": [
    "with open('assets/mysecondfile.txt', mode='r') as my_second_file:\n",
    "    print(my_second_file.read())"
   ]
  },
  {
   "cell_type": "code",
   "execution_count": 59,
   "id": "755bfd26-d8db-446e-896a-dc07560c15e0",
   "metadata": {},
   "outputs": [],
   "source": [
    "with open('assets/mythirdfile.txt', mode='w') as my_third_file: # New file created even if it didn't existed before.\n",
    "    my_third_file.write('New File With mode=\"w\"')"
   ]
  },
  {
   "cell_type": "code",
   "execution_count": 61,
   "id": "044b1dbb-3760-4bd6-99bb-b75e2240832c",
   "metadata": {},
   "outputs": [
    {
     "name": "stdout",
     "output_type": "stream",
     "text": [
      "New File With mode=\"w\"\n"
     ]
    }
   ],
   "source": [
    "with open('assets/mythirdfile.txt', mode='r') as my_third_file:\n",
    "    print(my_third_file.read())"
   ]
  }
 ],
 "metadata": {
  "kernelspec": {
   "display_name": "Python 3 (ipykernel)",
   "language": "python",
   "name": "python3"
  },
  "language_info": {
   "codemirror_mode": {
    "name": "ipython",
    "version": 3
   },
   "file_extension": ".py",
   "mimetype": "text/x-python",
   "name": "python",
   "nbconvert_exporter": "python",
   "pygments_lexer": "ipython3",
   "version": "3.13.7"
  }
 },
 "nbformat": 4,
 "nbformat_minor": 5
}
