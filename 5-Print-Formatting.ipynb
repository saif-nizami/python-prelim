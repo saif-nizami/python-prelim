{
 "cells": [
  {
   "cell_type": "code",
   "execution_count": 2,
   "id": "376b05a1-a16c-438b-bcf5-39d40dcfe941",
   "metadata": {},
   "outputs": [
    {
     "name": "stdout",
     "output_type": "stream",
     "text": [
      "This is a string INSERTED\n"
     ]
    }
   ],
   "source": [
    "print('This is a string {}'.format('INSERTED'))"
   ]
  },
  {
   "cell_type": "code",
   "execution_count": 5,
   "id": "e5d14bf4-732d-4648-a78b-a5c72d88fe83",
   "metadata": {},
   "outputs": [
    {
     "name": "stdout",
     "output_type": "stream",
     "text": [
      "The fox brown quick\n"
     ]
    }
   ],
   "source": [
    "print('The {} {} {}'.format('fox', 'brown', 'quick')) # but the order is not suitable"
   ]
  },
  {
   "cell_type": "code",
   "execution_count": 7,
   "id": "a1026937-1847-4123-83bc-d7b7199f2c2a",
   "metadata": {},
   "outputs": [
    {
     "name": "stdout",
     "output_type": "stream",
     "text": [
      "The quick brown fox\n"
     ]
    }
   ],
   "source": [
    "print('The {2} {1} {0}'.format('fox', 'brown', 'quick'))"
   ]
  },
  {
   "cell_type": "code",
   "execution_count": 8,
   "id": "c527322f-bf7a-495c-bbc2-5c32a28261ee",
   "metadata": {},
   "outputs": [
    {
     "name": "stdout",
     "output_type": "stream",
     "text": [
      "The quick brown fox\n"
     ]
    }
   ],
   "source": [
    "print('The {q} {b} {f}'.format(f='fox', b='brown', q='quick')) # even better version"
   ]
  },
  {
   "cell_type": "markdown",
   "id": "900e3eea-0b68-47e8-af43-a75a217c2108",
   "metadata": {},
   "source": [
    "FLOAT FORMATTING follows \"{value:width.precision f}\""
   ]
  },
  {
   "cell_type": "code",
   "execution_count": 11,
   "id": "81fd92cb-7911-4b06-aebf-9860d04049d2",
   "metadata": {},
   "outputs": [],
   "source": [
    "result = 100/777"
   ]
  },
  {
   "cell_type": "code",
   "execution_count": 12,
   "id": "12589971-7d5d-4cee-a7a5-b669590233fc",
   "metadata": {},
   "outputs": [
    {
     "data": {
      "text/plain": [
       "0.1287001287001287"
      ]
     },
     "execution_count": 12,
     "metadata": {},
     "output_type": "execute_result"
    }
   ],
   "source": [
    "result"
   ]
  },
  {
   "cell_type": "code",
   "execution_count": 14,
   "id": "bbec780f-d8a7-4330-b7f0-b347dac1ff14",
   "metadata": {},
   "outputs": [
    {
     "name": "stdout",
     "output_type": "stream",
     "text": [
      "The result was 0.1287001287001287\n"
     ]
    }
   ],
   "source": [
    "print('The result was {r}'.format(r=result))"
   ]
  },
  {
   "cell_type": "code",
   "execution_count": 17,
   "id": "fd60dd17-7d12-4034-ae0f-15ae99517c24",
   "metadata": {},
   "outputs": [
    {
     "name": "stdout",
     "output_type": "stream",
     "text": [
      "The result was 0.129\n"
     ]
    }
   ],
   "source": [
    "print('The result was {r:1.3f}'.format(r=result)) # with precision formatting"
   ]
  },
  {
   "cell_type": "markdown",
   "id": "cecbf028-74d8-482e-bcd4-63135cef7857",
   "metadata": {},
   "source": [
    "F-STRINGS"
   ]
  },
  {
   "cell_type": "code",
   "execution_count": 8,
   "id": "15f61322-d9d3-48db-9ce5-5f7c5e9ef69f",
   "metadata": {},
   "outputs": [],
   "source": [
    "name = 'saif'\n",
    "age = 27"
   ]
  },
  {
   "cell_type": "code",
   "execution_count": 9,
   "id": "27db8b93-36d7-4ec3-8761-454a7249e635",
   "metadata": {},
   "outputs": [
    {
     "name": "stdout",
     "output_type": "stream",
     "text": [
      "Hello, his name is saif, and the age is 27\n"
     ]
    }
   ],
   "source": [
    "print(f'Hello, his name is {name}, and the age is {age}')"
   ]
  }
 ],
 "metadata": {
  "kernelspec": {
   "display_name": "Python 3 (ipykernel)",
   "language": "python",
   "name": "python3"
  },
  "language_info": {
   "codemirror_mode": {
    "name": "ipython",
    "version": 3
   },
   "file_extension": ".py",
   "mimetype": "text/x-python",
   "name": "python",
   "nbconvert_exporter": "python",
   "pygments_lexer": "ipython3",
   "version": "3.13.2"
  }
 },
 "nbformat": 4,
 "nbformat_minor": 5
}
