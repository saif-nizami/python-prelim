{
 "cells": [
  {
   "cell_type": "markdown",
   "id": "9dc0b4e3-fe65-4412-931e-74c0ae444a23",
   "metadata": {},
   "source": [
    "# Nested Statements & Scopes In Python"
   ]
  },
  {
   "cell_type": "code",
   "execution_count": 4,
   "id": "3724bdeb-041f-4cc0-bf17-fc3e42d99630",
   "metadata": {},
   "outputs": [],
   "source": [
    "x = 25\n",
    "\n",
    "def printer():\n",
    "    x = 50\n",
    "    return x"
   ]
  },
  {
   "cell_type": "code",
   "execution_count": 7,
   "id": "90960166-2b28-4cb9-b94f-b3b3682d7a18",
   "metadata": {},
   "outputs": [
    {
     "name": "stdout",
     "output_type": "stream",
     "text": [
      "25\n"
     ]
    }
   ],
   "source": [
    "print(x)"
   ]
  },
  {
   "cell_type": "code",
   "execution_count": 10,
   "id": "feb02b1b-5882-46ce-bbd7-6c135f974320",
   "metadata": {},
   "outputs": [
    {
     "name": "stdout",
     "output_type": "stream",
     "text": [
      "50\n"
     ]
    }
   ],
   "source": [
    "print(printer())"
   ]
  },
  {
   "cell_type": "markdown",
   "id": "d8a9e388-56dd-4770-a171-1560ed22dbc6",
   "metadata": {},
   "source": [
    "LEGB Rule:\n",
    "\n",
    "L: Local — Names assigned in any way within a function (def or lambda), and not declared global in that function.\n",
    "\n",
    "E: Enclosing function locals — Names in the local scope of any and all enclosing functions (def or lambda), from inner to outer.\n",
    "\n",
    "G: Global (module) — Names assigned at the top-level of a module file, or declared global in a def within the file.\n",
    "\n",
    "B: Built-in (Python) — Names preassigned in the built-in names module : open, range, SyntaxError,..."
   ]
  },
  {
   "cell_type": "code",
   "execution_count": 12,
   "id": "8c0f1158-9200-42e1-99fa-dd7139d98aed",
   "metadata": {},
   "outputs": [
    {
     "data": {
      "text/plain": [
       "<function __main__.<lambda>(num)>"
      ]
     },
     "execution_count": 12,
     "metadata": {},
     "output_type": "execute_result"
    }
   ],
   "source": [
    "# LOCAL\n",
    "\n",
    "lambda num: num ** 2 # Here num is local"
   ]
  },
  {
   "cell_type": "code",
   "execution_count": 18,
   "id": "7f6c3818-256a-4917-9427-429cf51bdf75",
   "metadata": {},
   "outputs": [],
   "source": [
    "# ENCLOSING FUNCTION LOCAL\n",
    "\n",
    "name = 'THIS IS A GLOBAL STRING' # GLOBAL\n",
    "\n",
    "def greet():\n",
    "    name = 'Sammy' # ENCLOSING, because it is inside a function\n",
    "    def hello():\n",
    "        name = 'THIS IS LOCAL STRING' # LOCAL\n",
    "        print('Hello ' + name)\n",
    "    hello()"
   ]
  },
  {
   "cell_type": "code",
   "execution_count": 19,
   "id": "4fe4f66b-0f2d-499a-90d7-2d9b5785a7ac",
   "metadata": {},
   "outputs": [
    {
     "name": "stdout",
     "output_type": "stream",
     "text": [
      "Hello THIS IS LOCAL STRING\n"
     ]
    }
   ],
   "source": [
    "greet()"
   ]
  },
  {
   "cell_type": "code",
   "execution_count": 27,
   "id": "0cebe5e2-e5c8-4bcf-9de2-7aeb41e79c2f",
   "metadata": {},
   "outputs": [],
   "source": [
    "x = 50\n",
    "\n",
    "def func(x):\n",
    "    print(f'x is {x}')\n",
    "\n",
    "    x = 100 # Local Reassignment\n",
    "    print(f'x is locally reassigned to {x}')"
   ]
  },
  {
   "cell_type": "code",
   "execution_count": 28,
   "id": "d4609a04-d002-40a8-aaa9-4c14e166a391",
   "metadata": {},
   "outputs": [
    {
     "name": "stdout",
     "output_type": "stream",
     "text": [
      "x is 50\n",
      "x is locally reassigned to 100\n"
     ]
    }
   ],
   "source": [
    "func(x)"
   ]
  },
  {
   "cell_type": "code",
   "execution_count": 29,
   "id": "1642e37c-bca3-4fd8-b67e-3e344b183fb4",
   "metadata": {},
   "outputs": [
    {
     "data": {
      "text/plain": [
       "50"
      ]
     },
     "execution_count": 29,
     "metadata": {},
     "output_type": "execute_result"
    }
   ],
   "source": [
    "x"
   ]
  },
  {
   "cell_type": "code",
   "execution_count": 34,
   "id": "e813f6bf-98b0-4e4e-8c1e-3e2b1919c148",
   "metadata": {},
   "outputs": [],
   "source": [
    "x = 50\n",
    "\n",
    "def func():\n",
    "    global x\n",
    "    print(f'x is {x}')\n",
    "\n",
    "    x = 100 # Local Reassignment On Gloabl Variable\n",
    "    print(f'x is locally reassigned to global scope with value {x}')"
   ]
  },
  {
   "cell_type": "code",
   "execution_count": 35,
   "id": "70a203c6-c500-40d3-a81f-7e85cea52650",
   "metadata": {},
   "outputs": [
    {
     "name": "stdout",
     "output_type": "stream",
     "text": [
      "x is 50\n",
      "x is locally reassigned to global scope with value 100\n"
     ]
    }
   ],
   "source": [
    "func()"
   ]
  },
  {
   "cell_type": "code",
   "execution_count": 36,
   "id": "3bffbd0e-83da-4690-9eca-5a2bacb97cb5",
   "metadata": {},
   "outputs": [
    {
     "data": {
      "text/plain": [
       "100"
      ]
     },
     "execution_count": 36,
     "metadata": {},
     "output_type": "execute_result"
    }
   ],
   "source": [
    "x"
   ]
  }
 ],
 "metadata": {
  "kernelspec": {
   "display_name": "Python 3 (ipykernel)",
   "language": "python",
   "name": "python3"
  },
  "language_info": {
   "codemirror_mode": {
    "name": "ipython",
    "version": 3
   },
   "file_extension": ".py",
   "mimetype": "text/x-python",
   "name": "python",
   "nbconvert_exporter": "python",
   "pygments_lexer": "ipython3",
   "version": "3.13.7"
  }
 },
 "nbformat": 4,
 "nbformat_minor": 5
}
