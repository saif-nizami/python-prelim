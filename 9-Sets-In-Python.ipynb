{
 "cells": [
  {
   "cell_type": "markdown",
   "id": "c477636f-d406-4606-b6fb-2b46e3d52ca5",
   "metadata": {},
   "source": [
    "# Sets In Python ( Unordered Collection of unique elements )"
   ]
  },
  {
   "cell_type": "code",
   "execution_count": 2,
   "id": "f3753293-8ccb-4ec2-ae80-41821514ecb1",
   "metadata": {},
   "outputs": [],
   "source": [
    "myset = set()"
   ]
  },
  {
   "cell_type": "code",
   "execution_count": 3,
   "id": "f80783c3-3ff2-4dc9-bd23-1b1e9e3b8459",
   "metadata": {},
   "outputs": [
    {
     "data": {
      "text/plain": [
       "set()"
      ]
     },
     "execution_count": 3,
     "metadata": {},
     "output_type": "execute_result"
    }
   ],
   "source": [
    "myset"
   ]
  },
  {
   "cell_type": "code",
   "execution_count": 4,
   "id": "81cb1b18-8a83-44d4-a514-0ba20eeadb38",
   "metadata": {},
   "outputs": [],
   "source": [
    "myset.add(1)"
   ]
  },
  {
   "cell_type": "code",
   "execution_count": 5,
   "id": "8885994f-a6a2-4fc8-88c3-8a7a7d7c8e82",
   "metadata": {},
   "outputs": [
    {
     "data": {
      "text/plain": [
       "{1}"
      ]
     },
     "execution_count": 5,
     "metadata": {},
     "output_type": "execute_result"
    }
   ],
   "source": [
    "myset"
   ]
  },
  {
   "cell_type": "code",
   "execution_count": 6,
   "id": "a2368ae9-c8dc-4b10-b419-5a8af31513d4",
   "metadata": {},
   "outputs": [],
   "source": [
    "myset.add(2)"
   ]
  },
  {
   "cell_type": "code",
   "execution_count": 7,
   "id": "ea7c49eb-669e-455b-8972-2fdd09af77a9",
   "metadata": {},
   "outputs": [
    {
     "data": {
      "text/plain": [
       "{1, 2}"
      ]
     },
     "execution_count": 7,
     "metadata": {},
     "output_type": "execute_result"
    }
   ],
   "source": [
    "myset"
   ]
  },
  {
   "cell_type": "code",
   "execution_count": 8,
   "id": "0e3c898d-c3a8-439a-9474-c6c5d7fd688c",
   "metadata": {},
   "outputs": [],
   "source": [
    "myset.add(2) # If adding existing element, then it just gets omitted."
   ]
  },
  {
   "cell_type": "code",
   "execution_count": 9,
   "id": "06c3c130-c18f-4d0f-934f-7fe87ef900b4",
   "metadata": {},
   "outputs": [
    {
     "data": {
      "text/plain": [
       "{1, 2}"
      ]
     },
     "execution_count": 9,
     "metadata": {},
     "output_type": "execute_result"
    }
   ],
   "source": [
    "myset"
   ]
  },
  {
   "cell_type": "code",
   "execution_count": 10,
   "id": "79083c9c-f2c5-483a-85f8-3bba321a83b1",
   "metadata": {},
   "outputs": [],
   "source": [
    "mylist = [1,1,1,1,2,2,2,3,3,3,]"
   ]
  },
  {
   "cell_type": "code",
   "execution_count": 13,
   "id": "575f1e01-c3ac-41de-82cf-9a36cbccb1ca",
   "metadata": {},
   "outputs": [
    {
     "data": {
      "text/plain": [
       "{1, 2, 3}"
      ]
     },
     "execution_count": 13,
     "metadata": {},
     "output_type": "execute_result"
    }
   ],
   "source": [
    "set(mylist) # This returns only unique elements."
   ]
  }
 ],
 "metadata": {
  "kernelspec": {
   "display_name": "Python 3 (ipykernel)",
   "language": "python",
   "name": "python3"
  },
  "language_info": {
   "codemirror_mode": {
    "name": "ipython",
    "version": 3
   },
   "file_extension": ".py",
   "mimetype": "text/x-python",
   "name": "python",
   "nbconvert_exporter": "python",
   "pygments_lexer": "ipython3",
   "version": "3.13.7"
  }
 },
 "nbformat": 4,
 "nbformat_minor": 5
}
