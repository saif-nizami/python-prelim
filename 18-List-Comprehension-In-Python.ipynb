{
 "cells": [
  {
   "cell_type": "markdown",
   "id": "89f5b1f0-4022-4b86-8bc4-9426849e26a8",
   "metadata": {},
   "source": [
    "# List Comprehension In Python"
   ]
  },
  {
   "cell_type": "code",
   "execution_count": 1,
   "id": "96c3e24a-eb1f-4aea-9b46-c13c2b5a2585",
   "metadata": {},
   "outputs": [
    {
     "data": {
      "text/plain": [
       "['H', 'E', 'L', 'L', 'O', '_', 'W', 'O', 'R', 'L', 'D']"
      ]
     },
     "execution_count": 1,
     "metadata": {},
     "output_type": "execute_result"
    }
   ],
   "source": [
    "mystring = 'HELLO_WORLD'\n",
    "mylist = []\n",
    "for letter in mystring:\n",
    "    mylist.append(letter)\n",
    "mylist"
   ]
  },
  {
   "cell_type": "code",
   "execution_count": 4,
   "id": "103285ff-3756-4099-ad63-67d29af0a1e8",
   "metadata": {},
   "outputs": [
    {
     "data": {
      "text/plain": [
       "['H', 'E', 'L', 'L', 'O', '_', 'W', 'O', 'R', 'L', 'D']"
      ]
     },
     "execution_count": 4,
     "metadata": {},
     "output_type": "execute_result"
    }
   ],
   "source": [
    "mylist = [letter for letter in mystring]\n",
    "mylist"
   ]
  },
  {
   "cell_type": "code",
   "execution_count": 5,
   "id": "ee68b6fb-2e1d-4b4f-b1a2-ed7befd4e5d6",
   "metadata": {},
   "outputs": [
    {
     "data": {
      "text/plain": [
       "[10, 11, 12, 13, 14, 15, 16, 17, 18, 19]"
      ]
     },
     "execution_count": 5,
     "metadata": {},
     "output_type": "execute_result"
    }
   ],
   "source": [
    "mylist = [num for num in range(10, 20)]\n",
    "mylist"
   ]
  },
  {
   "cell_type": "code",
   "execution_count": 7,
   "id": "8c8f9d25-26d1-475f-9063-15946ff73a32",
   "metadata": {},
   "outputs": [
    {
     "data": {
      "text/plain": [
       "[100, 121, 144, 169, 196, 225, 256, 289, 324, 361]"
      ]
     },
     "execution_count": 7,
     "metadata": {},
     "output_type": "execute_result"
    }
   ],
   "source": [
    "mylist = [num**2 for num in range(10, 20)] # We could run operations on it, e'g here we're doing the square root.\n",
    "mylist"
   ]
  },
  {
   "cell_type": "code",
   "execution_count": 9,
   "id": "1f754199-2f74-4a47-8494-239b9e2a6d09",
   "metadata": {},
   "outputs": [
    {
     "data": {
      "text/plain": [
       "[100, 144, 196, 256, 324]"
      ]
     },
     "execution_count": 9,
     "metadata": {},
     "output_type": "execute_result"
    }
   ],
   "source": [
    "mylist = [num**2 for num in range(10, 20) if num%2 == 0] # We could also use if statement here\n",
    "mylist"
   ]
  },
  {
   "cell_type": "code",
   "execution_count": 12,
   "id": "d93bae6b-8d2e-4f19-abc0-f3281f0a8cfb",
   "metadata": {},
   "outputs": [
    {
     "data": {
      "text/plain": [
       "[32.0, 50.0, 68.0, 86.0, 104.0, 113.9]"
      ]
     },
     "execution_count": 12,
     "metadata": {},
     "output_type": "execute_result"
    }
   ],
   "source": [
    "celcius = [0,10,20,30,40,45.5]\n",
    "fahrenheit = [( 9 / 5 ) * temp_in_celcius + 32 for temp_in_celcius in celcius]\n",
    "fahrenheit"
   ]
  },
  {
   "cell_type": "code",
   "execution_count": 17,
   "id": "9345460f-913d-4a8a-8f1c-389a7df259cb",
   "metadata": {},
   "outputs": [
    {
     "data": {
      "text/plain": [
       "['ODD:1', 2, 'ODD:3', 4, 'ODD:5', 6, 'ODD:7', 8, 'ODD:9']"
      ]
     },
     "execution_count": 17,
     "metadata": {},
     "output_type": "execute_result"
    }
   ],
   "source": [
    "results = [x if x%2==0 else f'ODD:{x}' for x in range(1,10)] # We could also use if along with else too.\n",
    "results"
   ]
  },
  {
   "cell_type": "code",
   "execution_count": 22,
   "id": "31287648-65b7-434c-bce7-71cd4f895f1d",
   "metadata": {},
   "outputs": [
    {
     "data": {
      "text/plain": [
       "[2, 20, 200, 3, 30, 300, 4, 40, 400]"
      ]
     },
     "execution_count": 22,
     "metadata": {},
     "output_type": "execute_result"
    }
   ],
   "source": [
    "# Nested if, else in list comprehensions\n",
    "\n",
    "## Simplified Code\n",
    "# mylist = []\n",
    "# for x in [2,3,4]:\n",
    "#     for y in [1,10,100]:\n",
    "#         mylist.append(x*y)\n",
    "##mylist\n",
    "\n",
    "mylist = [x*y for x in [2,3,4] for y in [1,10,100]]\n",
    "mylist"
   ]
  }
 ],
 "metadata": {
  "kernelspec": {
   "display_name": "Python 3 (ipykernel)",
   "language": "python",
   "name": "python3"
  },
  "language_info": {
   "codemirror_mode": {
    "name": "ipython",
    "version": 3
   },
   "file_extension": ".py",
   "mimetype": "text/x-python",
   "name": "python",
   "nbconvert_exporter": "python",
   "pygments_lexer": "ipython3",
   "version": "3.13.7"
  }
 },
 "nbformat": 4,
 "nbformat_minor": 5
}
